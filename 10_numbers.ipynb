{
 "cells": [
  {
   "cell_type": "code",
   "execution_count": 1,
   "id": "c38a616b",
   "metadata": {},
   "outputs": [
    {
     "name": "stdout",
     "output_type": "stream",
     "text": [
      "<class 'int'>\n"
     ]
    }
   ],
   "source": [
    "lives = 3\n",
    "print (type(lives))\n",
    "age = 12\n",
    "buget = 100"
   ]
  },
  {
   "cell_type": "code",
   "execution_count": 2,
   "id": "32548ceb",
   "metadata": {},
   "outputs": [
    {
     "name": "stdout",
     "output_type": "stream",
     "text": [
      "<class 'float'>\n"
     ]
    }
   ],
   "source": [
    "\n",
    "teperature = 36.6\n",
    "print (type(teperature))"
   ]
  },
  {
   "cell_type": "code",
   "execution_count": 3,
   "id": "d4161853",
   "metadata": {},
   "outputs": [
    {
     "name": "stdout",
     "output_type": "stream",
     "text": [
      "2\n",
      "1\n",
      "27\n",
      "26\n",
      "25\n",
      "30\n"
     ]
    }
   ],
   "source": [
    "lives = 2 \n",
    "print (lives)\n",
    "\n",
    "lives = 1\n",
    "print (lives)\n",
    "\n",
    "lives = 12 + 15\n",
    "print (lives) \n",
    "\n",
    "lives = lives - 1\n",
    "print (lives)\n",
    "\n",
    "lives -= 1 # una forma diferente de escribir lives = lives - 1\n",
    "print (lives)\n",
    "\n",
    "lives += 5\n",
    "print (lives)"
   ]
  },
  {
   "cell_type": "code",
   "execution_count": 5,
   "id": "2b1b7930",
   "metadata": {},
   "outputs": [
    {
     "name": "stdout",
     "output_type": "stream",
     "text": [
      "4.5e+52\n",
      "4.5e-29\n"
     ]
    }
   ],
   "source": [
    "# un numero muy grande cuando es muy grande lo convierte en notacion cientifica\n",
    "number =45000000000000000000000000000000000000000000000000000.1 \n",
    "print (number)\n",
    "\n",
    "number_2 = 0.000000000000000000000000000045\n",
    "print (number_2) "
   ]
  }
 ],
 "metadata": {
  "kernelspec": {
   "display_name": "Python 3",
   "language": "python",
   "name": "python3"
  },
  "language_info": {
   "codemirror_mode": {
    "name": "ipython",
    "version": 3
   },
   "file_extension": ".py",
   "mimetype": "text/x-python",
   "name": "python",
   "nbconvert_exporter": "python",
   "pygments_lexer": "ipython3",
   "version": "3.13.7"
  }
 },
 "nbformat": 4,
 "nbformat_minor": 5
}
