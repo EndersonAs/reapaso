{
 "cells": [
  {
   "cell_type": "markdown",
   "id": "57dbfd72",
   "metadata": {},
   "source": [
    "<h4 id=\"inicio\">Dar click en los enlaces para ver el Ejemplo</h4>\n",
    "<li><a href=\"#limpieza-nulos\">Ir al ejemplo de limpieza de nulos</a></li>\n",
    "<li><a href=\"#eliminar_duplicados\">Ir al ejemplo de Eliminar Duplicados</a> </li>\n",
    "<li><a href=\"#read_write\">Ir al ejemplo de Leer y guardar un Excel, Csv, json Etc.</a></li>\n",
    "<li><a href=\"#sql\">Ir al ejemplo de Abrir un archivo SQL</a> </li>\n",
    "<li><a href=\"#ins\">Ir al ejemplo de inspeción (head, tail, shape, dtypes, info, describe)</a></li>\n",
    "<li><a href=\"#\">Ir al ejemplo de </a></li>\n",
    "<li><a href=\"#\">Ir al ejemplo de </a></li>\n",
    "<li><a href=\"#\">Ir al ejemplo de </a></li>\n",
    "<li><a href=\"#\">Ir al ejemplo de </a></li>\n",
    "<li><a href=\"#\">Ir al ejemplo de </a></li>\n"
   ]
  },
  {
   "cell_type": "markdown",
   "id": "0f9770ef",
   "metadata": {
    "vscode": {
     "languageId": "plaintext"
    }
   },
   "source": [
    "<h2 id=\"limpieza-nulos\">Ejemplo: Limpieza de valores nulos</h2> \n",
    "<a href=\"#inicio\">Ir al Inicio</a> "
   ]
  },
  {
   "cell_type": "code",
   "execution_count": 13,
   "id": "f8ff36d7",
   "metadata": {},
   "outputs": [
    {
     "name": "stdout",
     "output_type": "stream",
     "text": [
      "Antes de limpiar:\n",
      "   Nombre  Edad    Ciudad\n",
      "0     Ana  23.0    Bogotá\n",
      "1    Luis   NaN  Medellín\n",
      "2  Carlos  35.0      None\n",
      "3    None  29.0      Cali\n",
      "------------------------------------------------------------\n",
      "Después de limpiar:\n",
      "  Nombre  Edad  Ciudad\n",
      "0    Ana  23.0  Bogotá\n"
     ]
    }
   ],
   "source": [
    "import pandas as pd\n",
    "\n",
    "#DataFrame con valores nulos\n",
    "data = {\n",
    "    'Nombre': ['Ana', 'Luis', 'Carlos', None],\n",
    "    'Edad': [23, None, 35, 29],\n",
    "    'Ciudad': ['Bogotá', 'Medellín', None, 'Cali']\n",
    "}\n",
    "\n",
    "df = pd.DataFrame(data)\n",
    "\n",
    "print(\"Antes de limpiar:\")\n",
    "print(df)\n",
    "print(\"------------------------------------------------------------\")\n",
    "# Eliminar filas con valores nulos\n",
    "df_limpio = df.dropna()\n",
    "\n",
    "print(\"Después de limpiar:\")\n",
    "print(df_limpio)"
   ]
  },
  {
   "cell_type": "markdown",
   "id": "fa3ca509",
   "metadata": {},
   "source": [
    "<h2 id=\"eliminar_duplicados\">Ejemplo: Eliminar Duplicados</h2> \n",
    "<a href=\"#inicio\">Ir al Inicio</a> "
   ]
  },
  {
   "cell_type": "code",
   "execution_count": 14,
   "id": "2a021beb",
   "metadata": {},
   "outputs": [
    {
     "name": "stdout",
     "output_type": "stream",
     "text": [
      "Antes:\n",
      "   Producto  Precio\n",
      "0    Camisa   30000\n",
      "1    Camisa   30000\n",
      "2  Pantalón   70000\n",
      "3   Zapatos  120000\n",
      "------------------------------------------------------------\n",
      "Después:\n",
      "   Producto  Precio\n",
      "0    Camisa   30000\n",
      "2  Pantalón   70000\n",
      "3   Zapatos  120000\n"
     ]
    }
   ],
   "source": [
    "import pandas as pd\n",
    "\n",
    "data = {\n",
    "    'Producto': ['Camisa', 'Camisa', 'Pantalón', 'Zapatos'],\n",
    "    'Precio': [30000, 30000, 70000, 120000]\n",
    "}\n",
    "\n",
    "df = pd.DataFrame(data)\n",
    "\n",
    "print(\"Antes:\")\n",
    "print(df)\n",
    "print(\"------------------------------------------------------------\")\n",
    "# Eliminar duplicados\n",
    "df_sin_duplicados = df.drop_duplicates()\n",
    "\n",
    "print(\"Después:\")\n",
    "print(df_sin_duplicados)\n"
   ]
  },
  {
   "cell_type": "markdown",
   "id": "917c164d",
   "metadata": {},
   "source": [
    "<h2 id=\"read_write\">Ejemplo: Leer y guardar un Excel, Csv, json.</h2> \n",
    "<a href=\"#inicio\">Ir al Inicio</a> "
   ]
  },
  {
   "cell_type": "markdown",
   "id": "bbb01c99",
   "metadata": {},
   "source": [
    "* para leer el documento poner la extención del tipo de documento que se va a leer .Xlsx .Csv .Json\n",
    "\n",
    "* Ejemplo para un documento tipo Excel\n",
    "```\n",
    "df_excel = pd.read_excel(r\"C:\\Users\\ANDAP\\Desktop\\nombre_documento.xlsx\") \n",
    "print(df_excel)\n",
    "```\n",
    "* guardar documento\n",
    "```\n",
    "df_excel.to_excel(\"nombre_documento.Xlsx\")\n",
    "```\n",
    "* Ejemplo con un documento tipo Csv\n",
    "```\n",
    "df_csv = pd.read_csv(r\"C:\\Users\\ANDAP\\Desktop\\nombre_documento.csv\") \n",
    "print(df_csv)\n",
    "```\n",
    "* guardar documento\n",
    "```\n",
    "df_csv.to_excel(\"nombre_documento.csv\")\n",
    "```"
   ]
  },
  {
   "cell_type": "markdown",
   "id": "7f7cfade",
   "metadata": {},
   "source": [
    "<h2 id=\"sql\">Ejemplo: Abrir un archivo SQL.</h2> \n",
    "<a href=\"#inicio\">Ir al Inicio</a> "
   ]
  },
  {
   "cell_type": "code",
   "execution_count": null,
   "id": "5774e88c",
   "metadata": {},
   "outputs": [],
   "source": []
  },
  {
   "cell_type": "markdown",
   "id": "8aefce3e",
   "metadata": {},
   "source": [
    "<h2 id=\"ins\">Ejemplo: inspeción (head, tail, shape, dtypes, info, describe)</h2> \n",
    "<a href=\"#inicio\">Ir al Inicio</a> "
   ]
  },
  {
   "cell_type": "code",
   "execution_count": 31,
   "id": "d7e3ddcc",
   "metadata": {},
   "outputs": [
    {
     "name": "stdout",
     "output_type": "stream",
     "text": [
      "tabla normal\n",
      "   Producto  Precio  Cantidad  Utilidad\n",
      "0  Camisa S   30000        30      3000\n",
      "1  Camisa M   30000       300      3000\n",
      "2  Pantalón   70000        70      7000\n",
      "3   Zapatos  120000       120     12000\n",
      "------------------------------------------------------------\n",
      "imprime los dos primeros registros\n",
      "   Producto  Precio  Cantidad  Utilidad\n",
      "0  Camisa S   30000        30      3000\n",
      "1  Camisa M   30000       300      3000\n",
      "------------------------------------------------------------\n",
      "imprime los dos ultmos registros\n",
      "   Producto  Precio  Cantidad  Utilidad\n",
      "2  Pantalón   70000        70      7000\n",
      "3   Zapatos  120000       120     12000\n",
      "------------------------------------------------------------\n",
      "nos da las dimenciones de la tabla\n",
      "(4, 4)\n",
      "------------------------------------------------------------\n",
      "nos da información estructural del DataFrame\n",
      "<class 'pandas.core.frame.DataFrame'>\n",
      "RangeIndex: 4 entries, 0 to 3\n",
      "Data columns (total 4 columns):\n",
      " #   Column    Non-Null Count  Dtype \n",
      "---  ------    --------------  ----- \n",
      " 0   Producto  4 non-null      object\n",
      " 1   Precio    4 non-null      int64 \n",
      " 2   Cantidad  4 non-null      int64 \n",
      " 3   Utilidad  4 non-null      int64 \n",
      "dtypes: int64(3), object(1)\n",
      "memory usage: 260.0+ bytes\n",
      "------------------------------------------------------------\n",
      "nos da un pequeño resumen estadistico del DataFrame\n"
     ]
    },
    {
     "data": {
      "text/html": [
       "<div>\n",
       "<style scoped>\n",
       "    .dataframe tbody tr th:only-of-type {\n",
       "        vertical-align: middle;\n",
       "    }\n",
       "\n",
       "    .dataframe tbody tr th {\n",
       "        vertical-align: top;\n",
       "    }\n",
       "\n",
       "    .dataframe thead th {\n",
       "        text-align: right;\n",
       "    }\n",
       "</style>\n",
       "<table border=\"1\" class=\"dataframe\">\n",
       "  <thead>\n",
       "    <tr style=\"text-align: right;\">\n",
       "      <th></th>\n",
       "      <th>Precio</th>\n",
       "      <th>Cantidad</th>\n",
       "      <th>Utilidad</th>\n",
       "    </tr>\n",
       "  </thead>\n",
       "  <tbody>\n",
       "    <tr>\n",
       "      <th>count</th>\n",
       "      <td>4.000000</td>\n",
       "      <td>4.000000</td>\n",
       "      <td>4.000000</td>\n",
       "    </tr>\n",
       "    <tr>\n",
       "      <th>mean</th>\n",
       "      <td>62500.000000</td>\n",
       "      <td>130.000000</td>\n",
       "      <td>6250.000000</td>\n",
       "    </tr>\n",
       "    <tr>\n",
       "      <th>std</th>\n",
       "      <td>42720.018727</td>\n",
       "      <td>119.163753</td>\n",
       "      <td>4272.001873</td>\n",
       "    </tr>\n",
       "    <tr>\n",
       "      <th>min</th>\n",
       "      <td>30000.000000</td>\n",
       "      <td>30.000000</td>\n",
       "      <td>3000.000000</td>\n",
       "    </tr>\n",
       "    <tr>\n",
       "      <th>25%</th>\n",
       "      <td>30000.000000</td>\n",
       "      <td>60.000000</td>\n",
       "      <td>3000.000000</td>\n",
       "    </tr>\n",
       "    <tr>\n",
       "      <th>50%</th>\n",
       "      <td>50000.000000</td>\n",
       "      <td>95.000000</td>\n",
       "      <td>5000.000000</td>\n",
       "    </tr>\n",
       "    <tr>\n",
       "      <th>75%</th>\n",
       "      <td>82500.000000</td>\n",
       "      <td>165.000000</td>\n",
       "      <td>8250.000000</td>\n",
       "    </tr>\n",
       "    <tr>\n",
       "      <th>max</th>\n",
       "      <td>120000.000000</td>\n",
       "      <td>300.000000</td>\n",
       "      <td>12000.000000</td>\n",
       "    </tr>\n",
       "  </tbody>\n",
       "</table>\n",
       "</div>"
      ],
      "text/plain": [
       "              Precio    Cantidad      Utilidad\n",
       "count       4.000000    4.000000      4.000000\n",
       "mean    62500.000000  130.000000   6250.000000\n",
       "std     42720.018727  119.163753   4272.001873\n",
       "min     30000.000000   30.000000   3000.000000\n",
       "25%     30000.000000   60.000000   3000.000000\n",
       "50%     50000.000000   95.000000   5000.000000\n",
       "75%     82500.000000  165.000000   8250.000000\n",
       "max    120000.000000  300.000000  12000.000000"
      ]
     },
     "execution_count": 31,
     "metadata": {},
     "output_type": "execute_result"
    }
   ],
   "source": [
    "pd.set_option('display.max_columns', None)\n",
    "pd.set_option('display.max_rows', None)\n",
    "pd.set_option('display.width', None)\n",
    "\n",
    "\n",
    "data = {\n",
    "    'Producto': ['Camisa S', 'Camisa M', 'Pantalón', 'Zapatos'],\n",
    "    'Precio': [30000, 30000, 70000, 120000],\n",
    "    'Cantidad': [30, 300, 70, 120],\n",
    "    'Utilidad': [3000, 3000, 7000, 12000]\n",
    "}\n",
    "\n",
    "df_data = pd.DataFrame(data)\n",
    "print(\"tabla normal\")\n",
    "print(df_data )\n",
    "\n",
    "print(\"------------------------------------------------------------\")\n",
    "print(\"imprime los dos primeros registros\")\n",
    "print(df_data.head(2)) \n",
    "print(\"------------------------------------------------------------\")\n",
    "print(\"imprime los dos ultmos registros\")\n",
    "print(df_data.tail(2)) \n",
    "print(\"------------------------------------------------------------\")\n",
    "print(\"nos da las dimenciones de la tabla\")\n",
    "print(df_data.shape) \n",
    "print(\"------------------------------------------------------------\")\n",
    "print(\"nos da información estructural del DataFrame\")\n",
    "df_data.info()\n",
    "print(\"------------------------------------------------------------\")\n",
    "print(\"nos da un pequeño resumen estadistico del DataFrame\")\n",
    "df_data.describe()\n",
    "\n"
   ]
  }
 ],
 "metadata": {
  "kernelspec": {
   "display_name": "Python 3",
   "language": "python",
   "name": "python3"
  },
  "language_info": {
   "codemirror_mode": {
    "name": "ipython",
    "version": 3
   },
   "file_extension": ".py",
   "mimetype": "text/x-python",
   "name": "python",
   "nbconvert_exporter": "python",
   "pygments_lexer": "ipython3",
   "version": "3.13.7"
  }
 },
 "nbformat": 4,
 "nbformat_minor": 5
}
