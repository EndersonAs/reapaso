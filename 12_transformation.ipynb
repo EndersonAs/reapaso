{
 "cells": [
  {
   "cell_type": "code",
   "execution_count": null,
   "id": "5a08f982",
   "metadata": {},
   "outputs": [
    {
     "name": "stdout",
     "output_type": "stream",
     "text": [
      "<class 'str'>\n",
      "<class 'int'>\n",
      "<class 'bool'>\n"
     ]
    }
   ],
   "source": [
    "name = \"Nicolas\"\n",
    "print(type(name))\n",
    "\n",
    "name = 15\n",
    "print(type(name))\n",
    "\n",
    "name= True\n",
    "print(type(name)) "
   ]
  },
  {
   "cell_type": "code",
   "execution_count": null,
   "id": "d962bf56",
   "metadata": {},
   "outputs": [
    {
     "name": "stdout",
     "output_type": "stream",
     "text": [
      "nicolas torres\n",
      "nicolas 12\n",
      "35\n",
      "20 15\n"
     ]
    }
   ],
   "source": [
    "print(\"nicolas\" + \" torres\")  #con este operador se concatenan si los datos son str\n",
    "print(\"nicolas\" + \" 12\")\n",
    "print( 20 + 15) #con int el operador + los sumara \n",
    "print(20,15) #si quiere imprimir concaquetando numeros puede usar \",\" o convirtiendo los datos tipo integer en Str  "
   ]
  },
  {
   "cell_type": "code",
   "execution_count": null,
   "id": "8cb770b5",
   "metadata": {},
   "outputs": [],
   "source": [
    "age = input(\"Escribe tu edad => \")\n",
    "print(type(age))\n",
    "age = int(age)\n",
    "age += 10\n",
    "print(\"Tu edad es:  \", age )"
   ]
  }
 ],
 "metadata": {
  "kernelspec": {
   "display_name": "Python 3",
   "language": "python",
   "name": "python3"
  },
  "language_info": {
   "codemirror_mode": {
    "name": "ipython",
    "version": 3
   },
   "file_extension": ".py",
   "mimetype": "text/x-python",
   "name": "python",
   "nbconvert_exporter": "python",
   "pygments_lexer": "ipython3",
   "version": "3.13.7"
  }
 },
 "nbformat": 4,
 "nbformat_minor": 5
}
