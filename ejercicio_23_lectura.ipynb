{
 "cells": [
  {
   "cell_type": "markdown",
   "id": "3abcb1f6",
   "metadata": {},
   "source": [
    "<h3>Ejemplo pråctico<h3>\n",
    "La tienda tiene un archivo llamado \"ventas sin.rocesar.xlsx\" con los siguientes problemas:\n",
    "l. Leer el archivo ventas sucias.xlsx en un DataFrame.\n",
    "2. Eliminar duplicados (hay filas repetidas de \"Manzanas\").\n",
    "3. Convertir tipos de datos:\n",
    "    -Precio debe ser numérico (ej. \"dos mil\" -->2000).\n",
    "    -Cantidad debe ser numérico (ej. \"Cinco\" —+ 5).\n",
    "    -Fecha_Venta debe transformarse a formato fecha estándar (YYYY-MM-DD).\n",
    "4. Rellenar valores faltantes en la columna Cantidad con la media de la columna.\n",
    "5. Crear una columna Valor Total = Precio x Cantidad.\n",
    "6. Guardar el resultado limpio en un nuevo archivo \"ventas _ limpias.xlsx\".\n"
   ]
  },
  {
   "cell_type": "code",
   "execution_count": 49,
   "id": "dadc0f92",
   "metadata": {},
   "outputs": [
    {
     "name": "stdout",
     "output_type": "stream",
     "text": [
      "1. importar y leer el Archivo Excel\n",
      "    Producto   Precio Cantidad Fecha_Venta\n",
      "0   Manzanas     3000       10  2025-01-10\n",
      "1      Peras     2500    Cinco  2025-01-11\n",
      "2    Bananas     2000        8  2025-01-11\n",
      "3  Mandarina     3000       12  2025-01-12\n",
      "4   Naranjas  Dos mil       20  2025-01-13\n",
      "5     Fresas     2500      NaN  2025-01-14\n",
      "6   Manzanas     3000       10  2025-01-10\n"
     ]
    }
   ],
   "source": [
    "import pandas as pd\n",
    "\n",
    "print(\"1. importar y leer el Archivo Excel\")\n",
    "df_excel = pd.read_excel(r\"C:\\Users\\ANDAP\\Desktop\\ventas_sin_procesar.xlsx\")\n",
    "print(df_excel)"
   ]
  },
  {
   "cell_type": "code",
   "execution_count": 50,
   "id": "da1c47a0",
   "metadata": {},
   "outputs": [
    {
     "name": "stdout",
     "output_type": "stream",
     "text": [
      "2. Eliminar Duplicados\n",
      "    Producto   Precio Cantidad Fecha_Venta\n",
      "0   Manzanas     3000       10  2025-01-10\n",
      "1      Peras     2500    Cinco  2025-01-11\n",
      "2    Bananas     2000        8  2025-01-11\n",
      "3  Mandarina     3000       12  2025-01-12\n",
      "4   Naranjas  Dos mil       20  2025-01-13\n",
      "5     Fresas     2500      NaN  2025-01-14\n"
     ]
    }
   ],
   "source": [
    "print(\"2. Eliminar Duplicados\")\n",
    "df_excel = df_excel.drop_duplicates()\n",
    "print(df_excel)"
   ]
  },
  {
   "cell_type": "code",
   "execution_count": 51,
   "id": "c417e1e9",
   "metadata": {},
   "outputs": [
    {
     "name": "stdout",
     "output_type": "stream",
     "text": [
      "3. convertir tipos de datos\n",
      "    Producto Precio Cantidad Fecha_Venta\n",
      "0   Manzanas   3000       10  2025-01-10\n",
      "1      Peras   2500        5  2025-01-11\n",
      "2    Bananas   2000        8  2025-01-11\n",
      "3  Mandarina   3000       12  2025-01-12\n",
      "4   Naranjas   2000       20  2025-01-13\n",
      "5     Fresas   2500      NaN  2025-01-14\n"
     ]
    },
    {
     "name": "stderr",
     "output_type": "stream",
     "text": [
      "C:\\Users\\ANDAP\\AppData\\Local\\Temp\\ipykernel_12672\\2764145581.py:3: FutureWarning: ChainedAssignmentError: behaviour will change in pandas 3.0!\n",
      "You are setting values through chained assignment. Currently this works in certain cases, but when using Copy-on-Write (which will become the default behaviour in pandas 3.0) this will never work to update the original DataFrame or Series, because the intermediate object on which we are setting values will behave as a copy.\n",
      "A typical example is when you are setting values in a column of a DataFrame, like:\n",
      "\n",
      "df[\"col\"][row_indexer] = value\n",
      "\n",
      "Use `df.loc[row_indexer, \"col\"] = values` instead, to perform the assignment in a single step and ensure this keeps updating the original `df`.\n",
      "\n",
      "See the caveats in the documentation: https://pandas.pydata.org/pandas-docs/stable/user_guide/indexing.html#returning-a-view-versus-a-copy\n",
      "\n",
      "  df_excel[\"Precio\"][4] = 2000\n",
      "C:\\Users\\ANDAP\\AppData\\Local\\Temp\\ipykernel_12672\\2764145581.py:4: FutureWarning: ChainedAssignmentError: behaviour will change in pandas 3.0!\n",
      "You are setting values through chained assignment. Currently this works in certain cases, but when using Copy-on-Write (which will become the default behaviour in pandas 3.0) this will never work to update the original DataFrame or Series, because the intermediate object on which we are setting values will behave as a copy.\n",
      "A typical example is when you are setting values in a column of a DataFrame, like:\n",
      "\n",
      "df[\"col\"][row_indexer] = value\n",
      "\n",
      "Use `df.loc[row_indexer, \"col\"] = values` instead, to perform the assignment in a single step and ensure this keeps updating the original `df`.\n",
      "\n",
      "See the caveats in the documentation: https://pandas.pydata.org/pandas-docs/stable/user_guide/indexing.html#returning-a-view-versus-a-copy\n",
      "\n",
      "  df_excel[\"Cantidad\"][1] = 5\n"
     ]
    }
   ],
   "source": [
    "print(\"3. convertir tipos de datos\")\n",
    "\n",
    "df_excel[\"Precio\"][4] = 2000\n",
    "df_excel[\"Cantidad\"][1] = 5\n",
    "df_excel[\"Fecha_Venta\"] = pd.to_datetime(df_excel[\"Fecha_Venta\"])\n",
    "#df_excel[\"Fecha_Venta\"] = df_excel[\"Fecha_Venta\"].astype(\"date32[pyarrow]\")  OTRA FORMA DE CAMBIAR EL TIPO DE DATO A FECHA\n",
    "print(df_excel)\n"
   ]
  },
  {
   "cell_type": "code",
   "execution_count": 52,
   "id": "511668b7",
   "metadata": {},
   "outputs": [
    {
     "name": "stdout",
     "output_type": "stream",
     "text": [
      "4. rellenar valores faltantes\n",
      "    Producto Precio  Cantidad Fecha_Venta\n",
      "0   Manzanas   3000      10.0  2025-01-10\n",
      "1      Peras   2500       5.0  2025-01-11\n",
      "2    Bananas   2000       8.0  2025-01-11\n",
      "3  Mandarina   3000      12.0  2025-01-12\n",
      "4   Naranjas   2000      20.0  2025-01-13\n",
      "5     Fresas   2500      11.0  2025-01-14\n"
     ]
    }
   ],
   "source": [
    "print(\"4. rellenar valores faltantes\")\n",
    "\n",
    "df_excel[\"Cantidad\"] = pd.to_numeric(df_excel[\"Cantidad\"], errors=\"coerce\")\n",
    "media_cantidad = df_excel[\"Cantidad\"].mean()\n",
    "df_excel[\"Cantidad\"] = df_excel[\"Cantidad\"].fillna(media_cantidad)\n",
    "\n",
    "print(df_excel)\n"
   ]
  },
  {
   "cell_type": "code",
   "execution_count": 55,
   "id": "2351c39e",
   "metadata": {},
   "outputs": [
    {
     "name": "stdout",
     "output_type": "stream",
     "text": [
      "5. Crear una columna Valor Total = Precio x Cantidad.\n",
      "    Producto Precio  Cantidad Fecha_Venta Valor_Tolta\n",
      "0   Manzanas   3000      10.0  2025-01-10       30000\n",
      "1      Peras   2500       5.0  2025-01-11       12500\n",
      "2    Bananas   2000       8.0  2025-01-11       16000\n",
      "3  Mandarina   3000      12.0  2025-01-12       36000\n",
      "4   Naranjas   2000      20.0  2025-01-13       40000\n",
      "5     Fresas   2500      11.0  2025-01-14       27500\n"
     ]
    }
   ],
   "source": [
    "print(\"5. Crear una columna Valor Total = Precio x Cantidad.\")\n",
    "\n",
    "df_excel[\"Valor_Tolta\"]=df_excel[\"Cantidad\"].astype(int) * df_excel[\"Precio\"]\n",
    "print(df_excel)\n"
   ]
  },
  {
   "cell_type": "code",
   "execution_count": 54,
   "id": "e5e06089",
   "metadata": {},
   "outputs": [
    {
     "name": "stdout",
     "output_type": "stream",
     "text": [
      "6. Guardar el resultado limpio en un nuevo archivo ventas _ limpias.xlsx\n"
     ]
    }
   ],
   "source": [
    "print(\"6. Guardar el resultado limpio en un nuevo archivo ventas _ limpias.xlsx\")\n",
    "\n",
    "df_excel.to_excel(\"23. ventas_procesadas.xlsx\", index=False)\n"
   ]
  }
 ],
 "metadata": {
  "kernelspec": {
   "display_name": "Python 3",
   "language": "python",
   "name": "python3"
  },
  "language_info": {
   "codemirror_mode": {
    "name": "ipython",
    "version": 3
   },
   "file_extension": ".py",
   "mimetype": "text/x-python",
   "name": "python",
   "nbconvert_exporter": "python",
   "pygments_lexer": "ipython3",
   "version": "3.13.7"
  }
 },
 "nbformat": 4,
 "nbformat_minor": 5
}
