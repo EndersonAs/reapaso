{
 "cells": [
  {
   "cell_type": "markdown",
   "id": "d801f576",
   "metadata": {},
   "source": [
    "<h3>Creación de un diccionario \"data\" para aplicar algunas funciones</h3>"
   ]
  },
  {
   "cell_type": "code",
   "execution_count": 40,
   "id": "f2312ddc",
   "metadata": {},
   "outputs": [
    {
     "name": "stdout",
     "output_type": "stream",
     "text": [
      "   producto  precio  cantida_vendida      mes\n",
      "0  manzanas     2.5              100    enero\n",
      "1     peras     3.0              150    enero\n",
      "2    banana     1.8              200  febrero\n",
      "3   narajas     2.2               80  febrero\n"
     ]
    }
   ],
   "source": [
    "import pandas as pd\n",
    "\n",
    "data = {\n",
    "    \"producto\":[\"manzanas\", \"peras\", \"banana\",\"narajas\"],\n",
    "    \"precio\": [2.5, 3.0, 1.8, 2.2],\n",
    "    \"cantida_vendida\": [100,150,200,80],\n",
    "    \"mes\":[\"enero\",\"enero\",\"febrero\",\"febrero\"]\n",
    "}\n",
    "\n",
    "df_data =pd.DataFrame(data)\n",
    "print(df_data)\n"
   ]
  },
  {
   "cell_type": "markdown",
   "id": "c94872d1",
   "metadata": {},
   "source": [
    "<h3>Usamos la función \"agg\" para usar varios metodos en una linea de codigo</h3>\n",
    "<h4>En este caso usamos (mean),(max) aplicadas a la columna \"precio\" y (sum) para la columna\"cantida_vendida\"</h4>"
   ]
  },
  {
   "cell_type": "code",
   "execution_count": 41,
   "id": "357223ae",
   "metadata": {},
   "outputs": [
    {
     "data": {
      "text/html": [
       "<div>\n",
       "<style scoped>\n",
       "    .dataframe tbody tr th:only-of-type {\n",
       "        vertical-align: middle;\n",
       "    }\n",
       "\n",
       "    .dataframe tbody tr th {\n",
       "        vertical-align: top;\n",
       "    }\n",
       "\n",
       "    .dataframe thead th {\n",
       "        text-align: right;\n",
       "    }\n",
       "</style>\n",
       "<table border=\"1\" class=\"dataframe\">\n",
       "  <thead>\n",
       "    <tr style=\"text-align: right;\">\n",
       "      <th></th>\n",
       "      <th>precio</th>\n",
       "      <th>cantida_vendida</th>\n",
       "    </tr>\n",
       "  </thead>\n",
       "  <tbody>\n",
       "    <tr>\n",
       "      <th>mean</th>\n",
       "      <td>2.375</td>\n",
       "      <td>NaN</td>\n",
       "    </tr>\n",
       "    <tr>\n",
       "      <th>max</th>\n",
       "      <td>3.000</td>\n",
       "      <td>NaN</td>\n",
       "    </tr>\n",
       "    <tr>\n",
       "      <th>sum</th>\n",
       "      <td>NaN</td>\n",
       "      <td>530.0</td>\n",
       "    </tr>\n",
       "  </tbody>\n",
       "</table>\n",
       "</div>"
      ],
      "text/plain": [
       "      precio  cantida_vendida\n",
       "mean   2.375              NaN\n",
       "max    3.000              NaN\n",
       "sum      NaN            530.0"
      ]
     },
     "execution_count": 41,
     "metadata": {},
     "output_type": "execute_result"
    }
   ],
   "source": [
    "df_data.agg({\"precio\": [\"mean\", \"max\"],\"cantida_vendida\": \"sum\"})"
   ]
  },
  {
   "cell_type": "markdown",
   "id": "36c18392",
   "metadata": {},
   "source": [
    "<h3>Aqui filtramos los registros relacionados a \"enero\" en la columna \"mes\"</h3>"
   ]
  },
  {
   "cell_type": "code",
   "execution_count": 42,
   "id": "b99c9fcc",
   "metadata": {},
   "outputs": [
    {
     "name": "stdout",
     "output_type": "stream",
     "text": [
      "   producto  precio  cantida_vendida    mes\n",
      "0  manzanas     2.5              100  enero\n",
      "1     peras     3.0              150  enero\n"
     ]
    }
   ],
   "source": [
    "df_data = df_data[df_data[\"mes\"]==\"enero\"]\n",
    "print(df_data)"
   ]
  },
  {
   "cell_type": "markdown",
   "id": "2f588e62",
   "metadata": {},
   "source": [
    "<h3>Aqui imprimimos las columnas \"productos\" y \"cantida_vendida\" </h3>\n",
    "<h4>lo asignamos a una nueva variable df_data2 para no afectar el ejercicio que sigue</h4>"
   ]
  },
  {
   "cell_type": "code",
   "execution_count": 43,
   "id": "7adab9b8",
   "metadata": {},
   "outputs": [
    {
     "name": "stdout",
     "output_type": "stream",
     "text": [
      "   producto  cantida_vendida\n",
      "0  manzanas              100\n",
      "1     peras              150\n"
     ]
    }
   ],
   "source": [
    "df_data2 = df_data[[\"producto\",\"cantida_vendida\"]] #solo se asigno en este ejercicio para no afectar los otros.\n",
    "print(df_data2)"
   ]
  },
  {
   "cell_type": "markdown",
   "id": "e58b75e6",
   "metadata": {},
   "source": [
    "<h3>Aqui incrementamos el precio en un 10%</h3>"
   ]
  },
  {
   "cell_type": "code",
   "execution_count": 44,
   "id": "c1177707",
   "metadata": {},
   "outputs": [
    {
     "name": "stdout",
     "output_type": "stream",
     "text": [
      "   producto  precio  cantida_vendida    mes\n",
      "0  manzanas    2.75              100  enero\n",
      "1     peras    3.30              150  enero\n"
     ]
    }
   ],
   "source": [
    "df_data[\"precio\"] = df_data[\"precio\"] * 1.1\n",
    "print(df_data)"
   ]
  },
  {
   "cell_type": "markdown",
   "id": "75e41f25",
   "metadata": {},
   "source": [
    "<h3>Aqui creamos un nuevo diccionario \"nuevo_data\" para practicar otros metodos y funciones </h3>"
   ]
  },
  {
   "cell_type": "code",
   "execution_count": 45,
   "id": "e2d8504b",
   "metadata": {},
   "outputs": [
    {
     "name": "stdout",
     "output_type": "stream",
     "text": [
      "   producto  precio  cantida_vendida      mes\n",
      "0  manzanas     2.5              100    enero\n",
      "1      None     NaN              150    enero\n",
      "2    banana     1.8              200  febrero\n",
      "3   narajas     2.2               80     None\n",
      "4  manzanas     2.5              100    enero\n"
     ]
    }
   ],
   "source": [
    "nuevo_data = {\n",
    "    \"producto\":[\"manzanas\", None, \"banana\",\"narajas\",\"manzanas\"],\n",
    "    \"precio\": [2.5, None, 1.8, 2.2,2.5],\n",
    "    \"cantida_vendida\": [100,150,200,80,100],\n",
    "    \"mes\":[\"enero\",\"enero\",\"febrero\",None,\"enero\"]\n",
    "}\n",
    "\n",
    "df_nuevo_data =pd.DataFrame(nuevo_data)\n",
    "print(df_nuevo_data)\n"
   ]
  },
  {
   "cell_type": "markdown",
   "id": "882b9eeb",
   "metadata": {},
   "source": [
    "<h3>aplicamos el metodo \"isnull\" para validar que registros son nulos y con (sum) para saber la cantidad de nulos</h3>"
   ]
  },
  {
   "cell_type": "code",
   "execution_count": 46,
   "id": "d852c430",
   "metadata": {},
   "outputs": [
    {
     "name": "stdout",
     "output_type": "stream",
     "text": [
      "   producto  precio  cantida_vendida    mes\n",
      "0     False   False            False  False\n",
      "1      True    True            False  False\n",
      "2     False   False            False  False\n",
      "3     False   False            False   True\n",
      "4     False   False            False  False\n",
      "producto           1\n",
      "precio             1\n",
      "cantida_vendida    0\n",
      "mes                1\n",
      "dtype: int64\n"
     ]
    }
   ],
   "source": [
    "print(df_nuevo_data.isnull())\n",
    "print(df_nuevo_data.isnull().sum())"
   ]
  },
  {
   "cell_type": "markdown",
   "id": "13850111",
   "metadata": {},
   "source": [
    "<h3>aplicamos la función \"notnull\" que es lo contrario del \"isnull\" para validar que registros no son nulos </h3>"
   ]
  },
  {
   "cell_type": "code",
   "execution_count": 47,
   "id": "1600fb3f",
   "metadata": {},
   "outputs": [
    {
     "name": "stdout",
     "output_type": "stream",
     "text": [
      "   producto  precio  cantida_vendida    mes\n",
      "0      True    True             True   True\n",
      "1     False   False             True   True\n",
      "2      True    True             True   True\n",
      "3      True    True             True  False\n",
      "4      True    True             True   True\n"
     ]
    }
   ],
   "source": [
    "print(df_nuevo_data.notnull())"
   ]
  },
  {
   "cell_type": "markdown",
   "id": "5e833a70",
   "metadata": {},
   "source": [
    "<h3>aplicamos la función \"duplicated\" para validar que registros estan duplicados y con (sum) para saber la cantidad de registros duplicados</h3>"
   ]
  },
  {
   "cell_type": "code",
   "execution_count": 48,
   "id": "b737c7cd",
   "metadata": {},
   "outputs": [
    {
     "name": "stdout",
     "output_type": "stream",
     "text": [
      "0    False\n",
      "1    False\n",
      "2    False\n",
      "3    False\n",
      "4     True\n",
      "dtype: bool\n",
      "1\n"
     ]
    }
   ],
   "source": [
    "print(df_nuevo_data.duplicated())\n",
    "print(df_nuevo_data.duplicated().sum())"
   ]
  },
  {
   "cell_type": "markdown",
   "id": "4a4c8b39",
   "metadata": {},
   "source": [
    "<h3>aplicamos la función \"drop_duplicates\" para eliminar registros duplicados</h3>"
   ]
  },
  {
   "cell_type": "code",
   "execution_count": 49,
   "id": "39406137",
   "metadata": {},
   "outputs": [
    {
     "name": "stdout",
     "output_type": "stream",
     "text": [
      "   producto  precio  cantida_vendida      mes\n",
      "0  manzanas     2.5              100    enero\n",
      "1      None     NaN              150    enero\n",
      "2    banana     1.8              200  febrero\n",
      "3   narajas     2.2               80     None\n"
     ]
    }
   ],
   "source": [
    "print(df_nuevo_data.drop_duplicates())\n"
   ]
  },
  {
   "cell_type": "markdown",
   "id": "c0a71ecb",
   "metadata": {},
   "source": [
    "<h3>Aqui creamos un nuevo diccionario \"example_dupli\" para validar una caracteristica de la función \"drop_duplicates\"</h3>"
   ]
  },
  {
   "cell_type": "code",
   "execution_count": 50,
   "id": "423b57e1",
   "metadata": {},
   "outputs": [
    {
     "name": "stdout",
     "output_type": "stream",
     "text": [
      "     nombres  cedula\n",
      "0     jonier    1018\n",
      "1     julian    5042\n",
      "2  francisco    2015\n",
      "3     nataly    5042\n"
     ]
    }
   ],
   "source": [
    "example_dupli = {\n",
    "    \"nombres\":[\"jonier\", \"julian\", \"francisco\",\"nataly\"],\n",
    "    \"cedula\": [1018, 5042,2015,5042]  \n",
    "}\n",
    "\n",
    "df_example_dupli =pd.DataFrame(example_dupli)\n",
    "print(df_example_dupli)\n"
   ]
  },
  {
   "cell_type": "markdown",
   "id": "6ad9e99f",
   "metadata": {},
   "source": [
    "<h4>En el diccionario example_dupli no tenemos registros duplicados, solo tenemos un campo duplicado en la columna cedula y para poder eleminar el duplicado de ese campo usaremos el parametro (subset)</h4>"
   ]
  },
  {
   "cell_type": "code",
   "execution_count": 51,
   "id": "40027081",
   "metadata": {},
   "outputs": [
    {
     "name": "stdout",
     "output_type": "stream",
     "text": [
      "     nombres  cedula\n",
      "0     jonier    1018\n",
      "1     julian    5042\n",
      "2  francisco    2015\n",
      "3     nataly    5042\n",
      "-------------------------------------------------\n",
      "     nombres  cedula\n",
      "0     jonier    1018\n",
      "1     julian    5042\n",
      "2  francisco    2015\n"
     ]
    }
   ],
   "source": [
    "df_example_dupli = df_example_dupli.drop_duplicates() #no eliminaria nada ya que no tenemos registros duplicados \n",
    "print(df_example_dupli)\n",
    "print(\"-------------------------------------------------\")\n",
    "df_example_dupli = df_example_dupli.drop_duplicates(subset=\"cedula\") # con el parametro subset eliminaria el duplicado\n",
    "print(df_example_dupli)"
   ]
  },
  {
   "cell_type": "markdown",
   "id": "c71fad76",
   "metadata": {},
   "source": [
    "<h3>Aqui creamos 3 nuevos diccionarios para practicar diferentes funciones y metodos para unir tablas de diferentes formas</h3>"
   ]
  },
  {
   "cell_type": "code",
   "execution_count": 52,
   "id": "e60a90c5",
   "metadata": {},
   "outputs": [
    {
     "name": "stdout",
     "output_type": "stream",
     "text": [
      "      nombre   apellido    id\n",
      "0     jonier     porras  4020\n",
      "1     julian  rodriguez  5009\n",
      "2  francisco      parra  1010\n",
      "3     nataly      ortiz  1085\n",
      "-------------------------------------------------\n",
      "   nombre   apellido\n",
      "0   pedro      ariza\n",
      "1   fredy  fernandez\n",
      "2  miguel    alfonso\n",
      "3    sara      perez\n",
      "-------------------------------------------------\n",
      "   cedula  edad    id\n",
      "0    1018    32  4020\n",
      "1    4020    45  5009\n",
      "2    5009    26  1010\n",
      "3    1058    58  1085\n",
      "4    5210    65  2010\n"
     ]
    }
   ],
   "source": [
    "nombre_1 ={\n",
    "    \"nombre\":[\"jonier\", \"julian\", \"francisco\",\"nataly\"],\n",
    "    \"apellido\":[\"porras\",\"rodriguez\",\"parra\",\"ortiz\"],\n",
    "    \"id\":[4020,5009,1010,1085]\n",
    "}\n",
    "\n",
    "nombre_2 ={\n",
    "    \"nombre\":[\"pedro\", \"fredy\", \"miguel\",\"sara\"],\n",
    "    \"apellido\":[\"ariza\",\"fernandez\",\"alfonso\",\"perez\"]\n",
    "}\n",
    "\n",
    "numeros_1 ={\n",
    "    \"cedula\":[1018,4020,5009,1058,5210],\n",
    "    \"edad\":[32,45,26,58,65],\n",
    "    \"id\":[4020,5009,1010,1085,2010]\n",
    "}\n",
    "\n",
    "df_nombre_1 = pd.DataFrame(nombre_1)\n",
    "df_nombre_2 = pd.DataFrame(nombre_2)\n",
    "df_numeros_1 = pd.DataFrame(numeros_1)\n",
    "\n",
    "print(df_nombre_1)\n",
    "print(\"-------------------------------------------------\")\n",
    "print(df_nombre_2)\n",
    "print(\"-------------------------------------------------\")\n",
    "print(df_numeros_1)"
   ]
  },
  {
   "cell_type": "markdown",
   "id": "1c301d9a",
   "metadata": {},
   "source": [
    "<h3>Aqui usamos la función \"concat\" para concatenar primero los dos diccionarios y luego los 3 diccionarios de forma vertical</h3>"
   ]
  },
  {
   "cell_type": "code",
   "execution_count": 53,
   "id": "ed335c73",
   "metadata": {},
   "outputs": [
    {
     "name": "stdout",
     "output_type": "stream",
     "text": [
      "      nombre   apellido      id  cedula  edad\n",
      "0     jonier     porras  4020.0     NaN   NaN\n",
      "1     julian  rodriguez  5009.0     NaN   NaN\n",
      "2  francisco      parra  1010.0     NaN   NaN\n",
      "3     nataly      ortiz  1085.0     NaN   NaN\n",
      "0      pedro      ariza     NaN     NaN   NaN\n",
      "1      fredy  fernandez     NaN     NaN   NaN\n",
      "2     miguel    alfonso     NaN     NaN   NaN\n",
      "3       sara      perez     NaN     NaN   NaN\n",
      "0        NaN        NaN  4020.0  1018.0  32.0\n",
      "1        NaN        NaN  5009.0  4020.0  45.0\n",
      "2        NaN        NaN  1010.0  5009.0  26.0\n",
      "3        NaN        NaN  1085.0  1058.0  58.0\n",
      "4        NaN        NaN  2010.0  5210.0  65.0\n",
      "-------------------------------------------------\n",
      "      nombre   apellido      id\n",
      "0     jonier     porras  4020.0\n",
      "1     julian  rodriguez  5009.0\n",
      "2  francisco      parra  1010.0\n",
      "3     nataly      ortiz  1085.0\n",
      "0      pedro      ariza     NaN\n",
      "1      fredy  fernandez     NaN\n",
      "2     miguel    alfonso     NaN\n",
      "3       sara      perez     NaN\n"
     ]
    }
   ],
   "source": [
    "print(pd.concat([df_nombre_1,df_nombre_2,df_numeros_1]))\n",
    "print(\"-------------------------------------------------\")\n",
    "print(pd.concat([df_nombre_1,df_nombre_2]))"
   ]
  },
  {
   "cell_type": "markdown",
   "id": "e26471a4",
   "metadata": {},
   "source": [
    "<h3>aqui usamos la función \"join\" para la unión de diccionarios indicando con el parametro \"how=\" cual se unira a cual </h3>"
   ]
  },
  {
   "cell_type": "code",
   "execution_count": 57,
   "id": "84e01e8d",
   "metadata": {},
   "outputs": [
    {
     "name": "stdout",
     "output_type": "stream",
     "text": [
      "------------------------------------------------------------------------\n",
      "Este codigo quedo comentado porque interfiere con los otros ejercicios\n",
      "------------------------------------------------------------------------\n"
     ]
    }
   ],
   "source": [
    "#df_final_1 = df_nombre_1.join(df_numeros_1, how=\"left\")\n",
    "#print(df_final_1)\n",
    "print(\"------------------------------------------------------------------------\")\n",
    "print(\"Este codigo quedo comentado porque interfiere con los otros ejercicios\")\n",
    "print(\"------------------------------------------------------------------------\")\n",
    "#df_final_2 = df_nombre_1.join(df_numeros_1, how=\"right\")\n",
    "#print(df_final_2)"
   ]
  },
  {
   "cell_type": "markdown",
   "id": "71fc3937",
   "metadata": {},
   "source": [
    "<h3>Aquí usamos el metodo \"merge\" para unir los dicionarios por medio del parametro \"on=\" el cual le indicamos una columna en general una primary key \"id\" que nos ayudara como factor comun para unir los dos diccionarios</h3>"
   ]
  },
  {
   "cell_type": "code",
   "execution_count": 59,
   "id": "9172eb73",
   "metadata": {},
   "outputs": [
    {
     "name": "stdout",
     "output_type": "stream",
     "text": [
      "      nombre   apellido    id  cedula  edad\n",
      "0     jonier     porras  4020    1018    32\n",
      "1     julian  rodriguez  5009    4020    45\n",
      "2  francisco      parra  1010    5009    26\n",
      "3     nataly      ortiz  1085    1058    58\n"
     ]
    }
   ],
   "source": [
    "df_final_3 = df_nombre_1.merge(df_numeros_1, on=\"id\") #en este caso la union queda de forma horizontal \n",
    "print(df_final_3)"
   ]
  },
  {
   "cell_type": "markdown",
   "id": "ac9f4d8c",
   "metadata": {},
   "source": [
    "<h3>finalmente usamos el \"metodo replace\" para poder remplazar algunos valores en este caso de las columnas \"apellido\" y \"nombre\"</h3>"
   ]
  },
  {
   "cell_type": "code",
   "execution_count": 60,
   "id": "ef93bf76",
   "metadata": {},
   "outputs": [
    {
     "name": "stdout",
     "output_type": "stream",
     "text": [
      "   nombre   apellido    id\n",
      "0  jonier     porras  4020\n",
      "1  julian  rodriguez  5009\n",
      "2   jenny      parra  1010\n",
      "3  nataly    aguilar  1085\n"
     ]
    },
    {
     "name": "stderr",
     "output_type": "stream",
     "text": [
      "C:\\Users\\ariza\\AppData\\Local\\Temp\\ipykernel_10980\\3484168522.py:1: FutureWarning: A value is trying to be set on a copy of a DataFrame or Series through chained assignment using an inplace method.\n",
      "The behavior will change in pandas 3.0. This inplace method will never work because the intermediate object on which we are setting values always behaves as a copy.\n",
      "\n",
      "For example, when doing 'df[col].method(value, inplace=True)', try using 'df.method({col: value}, inplace=True)' or df[col] = df[col].method(value) instead, to perform the operation inplace on the original object.\n",
      "\n",
      "\n",
      "  df_nombre_1[\"apellido\"].replace({\"ortiz\": \"aguilar\"},inplace=True)\n",
      "C:\\Users\\ariza\\AppData\\Local\\Temp\\ipykernel_10980\\3484168522.py:2: FutureWarning: A value is trying to be set on a copy of a DataFrame or Series through chained assignment using an inplace method.\n",
      "The behavior will change in pandas 3.0. This inplace method will never work because the intermediate object on which we are setting values always behaves as a copy.\n",
      "\n",
      "For example, when doing 'df[col].method(value, inplace=True)', try using 'df.method({col: value}, inplace=True)' or df[col] = df[col].method(value) instead, to perform the operation inplace on the original object.\n",
      "\n",
      "\n",
      "  df_nombre_1[\"nombre\"].replace({\"francisco\": \"jenny\"},inplace=True)\n"
     ]
    }
   ],
   "source": [
    "df_nombre_1[\"apellido\"].replace({\"ortiz\": \"aguilar\"},inplace=True)\n",
    "df_nombre_1[\"nombre\"].replace({\"francisco\": \"jenny\"},inplace=True)\n",
    "\n",
    "print(df_nombre_1)"
   ]
  }
 ],
 "metadata": {
  "kernelspec": {
   "display_name": "Python 3",
   "language": "python",
   "name": "python3"
  },
  "language_info": {
   "codemirror_mode": {
    "name": "ipython",
    "version": 3
   },
   "file_extension": ".py",
   "mimetype": "text/x-python",
   "name": "python",
   "nbconvert_exporter": "python",
   "pygments_lexer": "ipython3",
   "version": "3.13.9"
  }
 },
 "nbformat": 4,
 "nbformat_minor": 5
}
