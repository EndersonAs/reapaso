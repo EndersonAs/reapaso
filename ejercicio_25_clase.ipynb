{
 "cells": [
  {
   "cell_type": "code",
   "execution_count": 180,
   "id": "f2312ddc",
   "metadata": {},
   "outputs": [
    {
     "name": "stdout",
     "output_type": "stream",
     "text": [
      "   producto  precio  cantida_vendida      mes\n",
      "0  manzanas     2.5              100    enero\n",
      "1     peras     3.0              150    enero\n",
      "2    banana     1.8              200  febrero\n",
      "3   narajas     2.2               80  febrero\n"
     ]
    }
   ],
   "source": [
    "import pandas as pd\n",
    "\n",
    "data = {\n",
    "    \"producto\":[\"manzanas\", \"peras\", \"banana\",\"narajas\"],\n",
    "    \"precio\": [2.5, 3.0, 1.8, 2.2],\n",
    "    \"cantida_vendida\": [100,150,200,80],\n",
    "    \"mes\":[\"enero\",\"enero\",\"febrero\",\"febrero\"]\n",
    "}\n",
    "\n",
    "df_data =pd.DataFrame(data)\n",
    "print(df_data)\n"
   ]
  },
  {
   "cell_type": "code",
   "execution_count": 181,
   "id": "357223ae",
   "metadata": {},
   "outputs": [
    {
     "data": {
      "text/html": [
       "<div>\n",
       "<style scoped>\n",
       "    .dataframe tbody tr th:only-of-type {\n",
       "        vertical-align: middle;\n",
       "    }\n",
       "\n",
       "    .dataframe tbody tr th {\n",
       "        vertical-align: top;\n",
       "    }\n",
       "\n",
       "    .dataframe thead th {\n",
       "        text-align: right;\n",
       "    }\n",
       "</style>\n",
       "<table border=\"1\" class=\"dataframe\">\n",
       "  <thead>\n",
       "    <tr style=\"text-align: right;\">\n",
       "      <th></th>\n",
       "      <th>precio</th>\n",
       "      <th>cantida_vendida</th>\n",
       "    </tr>\n",
       "  </thead>\n",
       "  <tbody>\n",
       "    <tr>\n",
       "      <th>mean</th>\n",
       "      <td>2.375</td>\n",
       "      <td>NaN</td>\n",
       "    </tr>\n",
       "    <tr>\n",
       "      <th>max</th>\n",
       "      <td>3.000</td>\n",
       "      <td>NaN</td>\n",
       "    </tr>\n",
       "    <tr>\n",
       "      <th>sum</th>\n",
       "      <td>NaN</td>\n",
       "      <td>530.0</td>\n",
       "    </tr>\n",
       "  </tbody>\n",
       "</table>\n",
       "</div>"
      ],
      "text/plain": [
       "      precio  cantida_vendida\n",
       "mean   2.375              NaN\n",
       "max    3.000              NaN\n",
       "sum      NaN            530.0"
      ]
     },
     "execution_count": 181,
     "metadata": {},
     "output_type": "execute_result"
    }
   ],
   "source": [
    "df_data.agg({\"precio\": [\"mean\", \"max\"],\"cantida_vendida\": \"sum\"})"
   ]
  },
  {
   "cell_type": "code",
   "execution_count": 182,
   "id": "b99c9fcc",
   "metadata": {},
   "outputs": [
    {
     "name": "stdout",
     "output_type": "stream",
     "text": [
      "   producto  precio  cantida_vendida    mes\n",
      "0  manzanas     2.5              100  enero\n",
      "1     peras     3.0              150  enero\n"
     ]
    }
   ],
   "source": [
    "df_data=df_data[df_data[\"mes\"]==\"enero\"]\n",
    "print(df_data)"
   ]
  },
  {
   "cell_type": "code",
   "execution_count": 183,
   "id": "7adab9b8",
   "metadata": {},
   "outputs": [
    {
     "name": "stdout",
     "output_type": "stream",
     "text": [
      "   producto  cantida_vendida\n",
      "0  manzanas              100\n",
      "1     peras              150\n"
     ]
    }
   ],
   "source": [
    "df_data2 = df_data[[\"producto\",\"cantida_vendida\"]]\n",
    "print(df_data2)"
   ]
  },
  {
   "cell_type": "code",
   "execution_count": 184,
   "id": "c1177707",
   "metadata": {},
   "outputs": [
    {
     "name": "stdout",
     "output_type": "stream",
     "text": [
      "   producto  precio  cantida_vendida    mes\n",
      "0  manzanas    2.75              100  enero\n",
      "1     peras    3.30              150  enero\n"
     ]
    }
   ],
   "source": [
    "df_data[\"precio\"] = df_data[\"precio\"] * 1.1\n",
    "print(df_data)"
   ]
  },
  {
   "cell_type": "code",
   "execution_count": 185,
   "id": "e2d8504b",
   "metadata": {},
   "outputs": [
    {
     "name": "stdout",
     "output_type": "stream",
     "text": [
      "   producto  precio  cantida_vendida      mes\n",
      "0  manzanas     2.5              100    enero\n",
      "1      None     NaN              150    enero\n",
      "2    banana     1.8              200  febrero\n",
      "3   narajas     2.2               80     None\n",
      "4  manzanas     2.5              100    enero\n"
     ]
    }
   ],
   "source": [
    "data3 = {\n",
    "    \"producto\":[\"manzanas\", None, \"banana\",\"narajas\",\"manzanas\"],\n",
    "    \"precio\": [2.5, None, 1.8, 2.2,2.5],\n",
    "    \"cantida_vendida\": [100,150,200,80,100],\n",
    "    \"mes\":[\"enero\",\"enero\",\"febrero\",None,\"enero\"]\n",
    "}\n",
    "\n",
    "df_data3 =pd.DataFrame(data3)\n",
    "print(df_data3)\n"
   ]
  },
  {
   "cell_type": "code",
   "execution_count": 186,
   "id": "d852c430",
   "metadata": {},
   "outputs": [
    {
     "name": "stdout",
     "output_type": "stream",
     "text": [
      "   producto  precio  cantida_vendida    mes\n",
      "0     False   False            False  False\n",
      "1      True    True            False  False\n",
      "2     False   False            False  False\n",
      "3     False   False            False   True\n",
      "4     False   False            False  False\n",
      "producto           1\n",
      "precio             1\n",
      "cantida_vendida    0\n",
      "mes                1\n",
      "dtype: int64\n"
     ]
    }
   ],
   "source": [
    "print(df_data3.isnull())\n",
    "print(df_data3.isnull().sum())"
   ]
  },
  {
   "cell_type": "code",
   "execution_count": 187,
   "id": "1600fb3f",
   "metadata": {},
   "outputs": [
    {
     "name": "stdout",
     "output_type": "stream",
     "text": [
      "   producto  precio  cantida_vendida    mes\n",
      "0      True    True             True   True\n",
      "1     False   False             True   True\n",
      "2      True    True             True   True\n",
      "3      True    True             True  False\n",
      "4      True    True             True   True\n"
     ]
    }
   ],
   "source": [
    "print(df_data3.notnull())"
   ]
  },
  {
   "cell_type": "code",
   "execution_count": 188,
   "id": "b737c7cd",
   "metadata": {},
   "outputs": [
    {
     "name": "stdout",
     "output_type": "stream",
     "text": [
      "0    False\n",
      "1    False\n",
      "2    False\n",
      "3    False\n",
      "4     True\n",
      "dtype: bool\n",
      "1\n"
     ]
    }
   ],
   "source": [
    "print(df_data3.duplicated())\n",
    "print(df_data3.duplicated().sum())"
   ]
  },
  {
   "cell_type": "code",
   "execution_count": 189,
   "id": "39406137",
   "metadata": {},
   "outputs": [
    {
     "name": "stdout",
     "output_type": "stream",
     "text": [
      "   producto  precio  cantida_vendida      mes\n",
      "0  manzanas     2.5              100    enero\n",
      "1      None     NaN              150    enero\n",
      "2    banana     1.8              200  febrero\n",
      "3   narajas     2.2               80     None\n"
     ]
    }
   ],
   "source": [
    "print(df_data3.drop_duplicates())\n"
   ]
  },
  {
   "cell_type": "code",
   "execution_count": 190,
   "id": "423b57e1",
   "metadata": {},
   "outputs": [
    {
     "name": "stdout",
     "output_type": "stream",
     "text": [
      "     nombres  cedula\n",
      "0     jonier    1018\n",
      "1     julian    5042\n",
      "2  francisco    2015\n",
      "3     nataly    5042\n"
     ]
    }
   ],
   "source": [
    "nombres = {\n",
    "    \"nombres\":[\"jonier\", \"julian\", \"francisco\",\"nataly\"],\n",
    "    \"cedula\": [1018, 5042,2015,5042]  \n",
    "}\n",
    "\n",
    "df_nombres =pd.DataFrame(nombres)\n",
    "print(df_nombres)\n"
   ]
  },
  {
   "cell_type": "code",
   "execution_count": 191,
   "id": "40027081",
   "metadata": {},
   "outputs": [
    {
     "name": "stdout",
     "output_type": "stream",
     "text": [
      "     nombres  cedula\n",
      "0     jonier    1018\n",
      "1     julian    5042\n",
      "2  francisco    2015\n",
      "3     nataly    5042\n",
      "-------------------------------------------------\n",
      "     nombres  cedula\n",
      "0     jonier    1018\n",
      "1     julian    5042\n",
      "2  francisco    2015\n"
     ]
    }
   ],
   "source": [
    "df_nombres = df_nombres.drop_duplicates() #no eliminaria nada\n",
    "print(df_nombres)\n",
    "print(\"-------------------------------------------------\")\n",
    "df_nombres = df_nombres.drop_duplicates(subset=\"cedula\") # con subset y la columna eliminaria el duplicado\n",
    "print(df_nombres)"
   ]
  },
  {
   "cell_type": "code",
   "execution_count": 192,
   "id": "e60a90c5",
   "metadata": {},
   "outputs": [
    {
     "name": "stdout",
     "output_type": "stream",
     "text": [
      "      nombre   apellido      id  cedula  edad\n",
      "0     jonier     porras  4020.0     NaN   NaN\n",
      "1     julian  rodriguez  5009.0     NaN   NaN\n",
      "2  francisco      parra  1010.0     NaN   NaN\n",
      "3     nataly      ortiz  1085.0     NaN   NaN\n",
      "0      pedro      ariza     NaN     NaN   NaN\n",
      "1      fredy  fernandez     NaN     NaN   NaN\n",
      "2     miguel    alfonso     NaN     NaN   NaN\n",
      "3       sara      perez     NaN     NaN   NaN\n",
      "0        NaN        NaN  4020.0  1018.0  32.0\n",
      "1        NaN        NaN  5009.0  4020.0  45.0\n",
      "2        NaN        NaN  1010.0  5009.0  26.0\n",
      "3        NaN        NaN  1085.0  1058.0  58.0\n",
      "4        NaN        NaN  2010.0  5210.0  65.0\n",
      "      nombre   apellido      id\n",
      "0     jonier     porras  4020.0\n",
      "1     julian  rodriguez  5009.0\n",
      "2  francisco      parra  1010.0\n",
      "3     nataly      ortiz  1085.0\n",
      "0      pedro      ariza     NaN\n",
      "1      fredy  fernandez     NaN\n",
      "2     miguel    alfonso     NaN\n",
      "3       sara      perez     NaN\n"
     ]
    }
   ],
   "source": [
    "nombre_1 ={\n",
    "    \"nombre\":[\"jonier\", \"julian\", \"francisco\",\"nataly\"],\n",
    "    \"apellido\":[\"porras\",\"rodriguez\",\"parra\",\"ortiz\"],\n",
    "    \"id\":[4020,5009,1010,1085]\n",
    "}\n",
    "\n",
    "nombre_2 ={\n",
    "    \"nombre\":[\"pedro\", \"fredy\", \"miguel\",\"sara\"],\n",
    "    \"apellido\":[\"ariza\",\"fernandez\",\"alfonso\",\"perez\"]\n",
    "}\n",
    "\n",
    "numeros_1 ={\n",
    "    \"cedula\":[1018,4020,5009,1058,5210],\n",
    "    \"edad\":[32,45,26,58,65],\n",
    "    \"id\":[4020,5009,1010,1085,2010]\n",
    "}\n",
    "\n",
    "df_nombre_1 = pd.DataFrame(nombre_1)\n",
    "df_nombre_2 = pd.DataFrame(nombre_2)\n",
    "df_numeros = pd.DataFrame(numeros_1)\n",
    "\n",
    "print(pd.concat([df_nombre_1,df_nombre_2,df_numeros]))\n",
    "print(pd.concat([df_nombre_1,df_nombre_2]))"
   ]
  },
  {
   "cell_type": "code",
   "execution_count": 197,
   "id": "84e01e8d",
   "metadata": {},
   "outputs": [
    {
     "name": "stdout",
     "output_type": "stream",
     "text": [
      "------------------------------------------\n"
     ]
    }
   ],
   "source": [
    "#df_final_1 = df_nombre_1.join(df_numeros, how=\"left\")\n",
    "#print(df_final_1)\n",
    "\n",
    "print(\"------------------------------------------\")\n",
    "#df_final_2 = df_nombre_1.join(df_numeros, how=\"right\")\n",
    "#print(df_final_2)"
   ]
  },
  {
   "cell_type": "code",
   "execution_count": 200,
   "id": "9172eb73",
   "metadata": {},
   "outputs": [
    {
     "name": "stdout",
     "output_type": "stream",
     "text": [
      "      nombre   apellido    id  cedula  edad\n",
      "0     jonier     porras  4020    1018    32\n",
      "1     julian  rodriguez  5009    4020    45\n",
      "2  francisco      parra  1010    5009    26\n",
      "3     nataly      ortiz  1085    1058    58\n"
     ]
    }
   ],
   "source": [
    "df_final_3 = df_nombre_1.merge(df_numeros, on=\"id\")\n",
    "print(df_final_3)"
   ]
  },
  {
   "cell_type": "code",
   "execution_count": 201,
   "id": "ef93bf76",
   "metadata": {},
   "outputs": [
    {
     "name": "stdout",
     "output_type": "stream",
     "text": [
      "   nombre   apellido    id\n",
      "0  jonier     porras  4020\n",
      "1  julian  rodriguez  5009\n",
      "2   jenny      parra  1010\n",
      "3  nataly    aguilar  1085\n"
     ]
    },
    {
     "name": "stderr",
     "output_type": "stream",
     "text": [
      "C:\\Users\\ANDAP\\AppData\\Local\\Temp\\ipykernel_7548\\3484168522.py:2: FutureWarning: A value is trying to be set on a copy of a DataFrame or Series through chained assignment using an inplace method.\n",
      "The behavior will change in pandas 3.0. This inplace method will never work because the intermediate object on which we are setting values always behaves as a copy.\n",
      "\n",
      "For example, when doing 'df[col].method(value, inplace=True)', try using 'df.method({col: value}, inplace=True)' or df[col] = df[col].method(value) instead, to perform the operation inplace on the original object.\n",
      "\n",
      "\n",
      "  df_nombre_1[\"nombre\"].replace({\"francisco\": \"jenny\"},inplace=True)\n"
     ]
    }
   ],
   "source": [
    "df_nombre_1[\"apellido\"].replace({\"ortiz\": \"aguilar\"},inplace=True)\n",
    "df_nombre_1[\"nombre\"].replace({\"francisco\": \"jenny\"},inplace=True)\n",
    "\n",
    "print(df_nombre_1)"
   ]
  }
 ],
 "metadata": {
  "kernelspec": {
   "display_name": "Python 3",
   "language": "python",
   "name": "python3"
  },
  "language_info": {
   "codemirror_mode": {
    "name": "ipython",
    "version": 3
   },
   "file_extension": ".py",
   "mimetype": "text/x-python",
   "name": "python",
   "nbconvert_exporter": "python",
   "pygments_lexer": "ipython3",
   "version": "3.13.7"
  }
 },
 "nbformat": 4,
 "nbformat_minor": 5
}
