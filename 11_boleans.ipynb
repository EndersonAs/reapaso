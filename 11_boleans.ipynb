{
 "cells": [
  {
   "cell_type": "code",
   "execution_count": null,
   "id": "900e752f",
   "metadata": {},
   "outputs": [],
   "source": [
    "is_single = True\n",
    "print (type(is_single))\n",
    "\n",
    "is_single = False\n",
    "print (is_single)"
   ]
  }
 ],
 "metadata": {
  "language_info": {
   "name": "python"
  }
 },
 "nbformat": 4,
 "nbformat_minor": 5
}
