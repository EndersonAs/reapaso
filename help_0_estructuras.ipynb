{
 "cells": [
  {
   "cell_type": "markdown",
   "id": "57dbfd72",
   "metadata": {},
   "source": [
    "***Estructuras de datos en python***\n",
    "<p>una estructura de datos es una forma de organizar y almacenar información para poder acceder y modificarla fácilmente.\n",
    "Las más comunes son: list, tuple, set, dict y algunas más avanzadas del módulo collections.</p>\n",
    "<h5 id=\"inicio\">Dar click en los enlaces para ver el Ejemplo</h5>\n",
    "<ol>\n",
    "<li><a href=\"#1\">Listas (list)</a></li>\n",
    "<li><a href=\"#2\">Tuplas (tuple)</a> </li>\n",
    "<li><a href=\"#3\">3. Conjuntos (set)</a></li>\n",
    "<li><a href=\"#4\">4. Diccionarios (dict)</a> </li>\n",
    "</ol>"
   ]
  },
  {
   "cell_type": "markdown",
   "id": "0f9770ef",
   "metadata": {
    "vscode": {
     "languageId": "plaintext"
    }
   },
   "source": [
    "<h3 id=\"1\">Ejemplo: 1. Listas (list)</h3>\n",
    "<p>Son colecciones ordenadas y mutables (se pueden modificar).</p> \n",
    "<a href=\"#inicio\">Ir al Inicio ✔</a> "
   ]
  },
  {
   "cell_type": "code",
   "execution_count": 15,
   "id": "f8ff36d7",
   "metadata": {},
   "outputs": [
    {
     "name": "stdout",
     "output_type": "stream",
     "text": [
      "banana\n",
      "------------------------------------------------------------\n",
      "['manzana', 'banana', 'pera', 'uva']\n"
     ]
    }
   ],
   "source": [
    "nombre_lista = [\"elemento1\", \"elemento2\", \"elemento3\"] # Sintaxis\n",
    "\n",
    "#ejemplo\n",
    "frutas = [\"manzana\", \"banana\", \"pera\"]\n",
    "print(frutas[1])  # Accede al segundo elemento -> \"banana\"\n",
    "print(\"------------------------------------------------------------\")\n",
    "frutas.append(\"uva\")  # Agrega un elemento\n",
    "print(frutas)  # [\"manzana\", \"banana\", \"pera\", \"uva\"]\n",
    "\n"
   ]
  },
  {
   "cell_type": "markdown",
   "id": "fa3ca509",
   "metadata": {},
   "source": [
    "<h2 id=\"2\">Ejemplo: 2. Tuplas (tuple)</h2>\n",
    "<p>Son colecciones ordenadas e inmutables (no se pueden cambiar).</p>\n",
    "<a href=\"#inicio\">Ir al Inicio</a> "
   ]
  },
  {
   "cell_type": "code",
   "execution_count": 12,
   "id": "2a021beb",
   "metadata": {},
   "outputs": [
    {
     "name": "stdout",
     "output_type": "stream",
     "text": [
      "10\n"
     ]
    }
   ],
   "source": [
    "nombre_tupla = (\"elemento1\", \"elemento2\", \"elemento3\") # Sintaxis\n",
    "\n",
    "#ejemplo\n",
    "coordenadas = (10, 20)\n",
    "print(coordenadas[0])  # 10\n",
    "# coordenadas[0] = 5  ❌  Error, las tuplas no se pueden modificar"
   ]
  },
  {
   "cell_type": "markdown",
   "id": "917c164d",
   "metadata": {},
   "source": [
    "<h2 id=\"3\">3. Conjuntos (set)</h2>\n",
    "<p>Son colecciones desordenadas y sin duplicados.</p> \n",
    "<a href=\"#inicio\">Ir al Inicio</a> "
   ]
  },
  {
   "cell_type": "code",
   "execution_count": 13,
   "id": "bbb01c99",
   "metadata": {},
   "outputs": [
    {
     "name": "stdout",
     "output_type": "stream",
     "text": [
      "{1, 2, 3}\n",
      "------------------------------------------------------------\n",
      "{1, 2, 3, 4}\n"
     ]
    }
   ],
   "source": [
    "nombre_set = {\"elemento1\", \"elemento2\", \"elemento3\"} # Sintaxis\n",
    "\n",
    "#ejemplo\n",
    "numeros = {1, 2, 3, 3, 2}\n",
    "print(numeros)  # {1, 2, 3} → elimina los duplicados\n",
    "print(\"------------------------------------------------------------\")\n",
    "numeros.add(4)\n",
    "print(numeros)  # {1, 2, 3, 4}"
   ]
  },
  {
   "cell_type": "markdown",
   "id": "7f7cfade",
   "metadata": {},
   "source": [
    "<h2 id=\"4\">4. Diccionarios (dict)</h2>\n",
    "<p>Son colecciones desordenadas de pares clave:valor.</p> \n",
    "<a href=\"#inicio\">Ir al Inicio</a> "
   ]
  },
  {
   "cell_type": "code",
   "execution_count": 14,
   "id": "5774e88c",
   "metadata": {},
   "outputs": [
    {
     "name": "stdout",
     "output_type": "stream",
     "text": [
      "Joe\n",
      "------------------------------------------------------------\n",
      "{'nombre': 'Joe', 'edad': 27, 'profesion': 'Desarrollador'}\n"
     ]
    }
   ],
   "source": [
    "nombre_diccionario = { #sintaxis\n",
    "    \"clave1\": \"valor1\",\n",
    "    \"clave2\": \"valor2\"\n",
    "}\n",
    "\n",
    "#ejemplo\n",
    "persona = {\n",
    "    \"nombre\": \"Joe\",\n",
    "    \"edad\": 22,\n",
    "    \"profesion\": \"Desarrollador\"\n",
    "}\n",
    "print(persona[\"nombre\"])  # Joe\n",
    "print(\"------------------------------------------------------------\")\n",
    "persona[\"edad\"] = 27  # Modifica un valor\n",
    "print(persona)\n"
   ]
  }
 ],
 "metadata": {
  "kernelspec": {
   "display_name": "Python 3",
   "language": "python",
   "name": "python3"
  },
  "language_info": {
   "codemirror_mode": {
    "name": "ipython",
    "version": 3
   },
   "file_extension": ".py",
   "mimetype": "text/x-python",
   "name": "python",
   "nbconvert_exporter": "python",
   "pygments_lexer": "ipython3",
   "version": "3.13.7"
  }
 },
 "nbformat": 4,
 "nbformat_minor": 5
}
