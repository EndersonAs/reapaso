{
 "cells": [
  {
   "cell_type": "code",
   "execution_count": 2,
   "id": "11541e71",
   "metadata": {},
   "outputs": [
    {
     "name": "stdout",
     "output_type": "stream",
     "text": [
      "  Producto_ID Cantidad\n",
      "0        P019   cuatro\n",
      "1         NaN   cuatro\n",
      "2        P010      NaN\n"
     ]
    }
   ],
   "source": [
    "import pandas as pd\n",
    "df_ventas = pd.read_excel(r\"C:\\Users\\ANDAP\\Downloads\\ventas.xlsx\", usecols=[\"Cantidad\",\"Producto_ID\"], nrows=3)\n",
    "print(df_ventas.head(10))\n"
   ]
  }
 ],
 "metadata": {
  "kernelspec": {
   "display_name": "Python 3",
   "language": "python",
   "name": "python3"
  },
  "language_info": {
   "codemirror_mode": {
    "name": "ipython",
    "version": 3
   },
   "file_extension": ".py",
   "mimetype": "text/x-python",
   "name": "python",
   "nbconvert_exporter": "python",
   "pygments_lexer": "ipython3",
   "version": "3.13.8"
  }
 },
 "nbformat": 4,
 "nbformat_minor": 5
}
