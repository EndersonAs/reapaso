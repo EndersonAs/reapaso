{
 "cells": [
  {
   "cell_type": "markdown",
   "id": "7044dc20",
   "metadata": {},
   "source": [
    "**No ejecutar estos ejemplo con jupyter**"
   ]
  },
  {
   "cell_type": "code",
   "execution_count": null,
   "id": "0a289e31",
   "metadata": {},
   "outputs": [],
   "source": [
    "numero=int(input(\"ingrese un numero: \"))\n",
    "if 10 < numero <20:\n",
    "  print(True)"
   ]
  },
  {
   "cell_type": "markdown",
   "id": "74dae2b9",
   "metadata": {},
   "source": []
  },
  {
   "cell_type": "code",
   "execution_count": null,
   "id": "59996c52",
   "metadata": {},
   "outputs": [],
   "source": [
    "numero=int(input(\"ingrese un numero: \"))\n",
    "if numero % 2 == 0:\n",
    "  print(\"es par\")\n",
    "else:\n",
    "  print(\"Es impar\")"
   ]
  },
  {
   "cell_type": "code",
   "execution_count": null,
   "id": "72c49eeb",
   "metadata": {},
   "outputs": [],
   "source": [
    "cadena_1= input(\"ingrese un cadena_1: \")\n",
    "cadena_2= input(\"ingrese un cadena_2: \")\n",
    "\n",
    "if cadena_1 == cadena_2:\n",
    "  print(\"son iguales\")\n",
    "\n",
    "else:\n",
    "  print(\"no son iguales\")"
   ]
  },
  {
   "cell_type": "code",
   "execution_count": null,
   "id": "db8dad63",
   "metadata": {},
   "outputs": [],
   "source": [
    "#unidad 7 - ejercicio 4\n",
    "#ejercicio estraido de la plataforma.\n",
    "\n",
    "tornillo= float(input(\"ingrese un tamaño: \"))\n",
    "\n",
    "if 1 <= tornillo < 3:\n",
    "  print(\"tornillo pequeño\")\n",
    "elif 3 <= tornillo < 5:\n",
    "  print(\"tornillo mediano\")\n",
    "elif 5 <= tornillo < 6.5:\n",
    "  print(\"tornillo grande\")\n",
    "elif 6.5 <= tornillo < 8.5:\n",
    "  print(\"tornillo muy grande\")\n",
    "elif 8.5 <= tornillo :\n",
    "  print(\"tornillo gigante\")\n",
    "\n"
   ]
  },
  {
   "cell_type": "code",
   "execution_count": null,
   "id": "0020f97a",
   "metadata": {},
   "outputs": [],
   "source": [
    "#unidad 7 - ejercicio 4\n",
    "#ejercicio estraido de la plataforma.\n",
    "\n",
    "tornillo= float(input(\"ingrese un tamaño: \"))\n",
    "\n",
    "if 1 <= tornillo < 3:\n",
    "  print(\"tornillo pequeño\")\n",
    "elif 3 <= tornillo < 5:\n",
    "  print(\"tornillo mediano\")\n",
    "elif 5 <= tornillo < 6.5:\n",
    "  print(\"tornillo grande\")\n",
    "elif 6.5 <= tornillo < 8.5:\n",
    "  print(\"tornillo muy grande\")\n",
    "elif 8.5 <= tornillo :\n",
    "  print(\"tornillo gigante\")\n",
    "\n"
   ]
  },
  {
   "cell_type": "code",
   "execution_count": null,
   "id": "04d8d25b",
   "metadata": {},
   "outputs": [],
   "source": [
    "#unidad 7 - ejercicio 1 fase 2\n",
    "digito_1= int(input(\"ingrese digito_1: \"))\n",
    "digito_2= int(input(\"ingrese digito_2: \"))\n",
    "digito_3= int(input(\"ingrese digito_3: \"))\n",
    "\n",
    "media = (digito_1 + digito_2 + digito_3) / 3\n",
    "print(media)"
   ]
  },
  {
   "cell_type": "code",
   "execution_count": null,
   "id": "0472d922",
   "metadata": {},
   "outputs": [],
   "source": [
    "numero_1= int(input(\"ingrese numero_1 menor a diez: \"))\n",
    "multi = 0\n",
    "while numero_1 < 10:\n",
    "  if numero < 10:\n",
    "    multi += numero_1\n",
    "    numero_1= int(input(\"ingrese numero_1 menor a diez: \"))\n",
    "\n",
    "  print(multi)\n",
    "\n"
   ]
  },
  {
   "cell_type": "code",
   "execution_count": null,
   "id": "4087af44",
   "metadata": {},
   "outputs": [],
   "source": [
    "lista_materia = []\n",
    "lista_notas= []\n",
    "\n",
    "for i in range(5):\n",
    "  materia = input(\"ingrese sus materias: \")\n",
    "  lista_materia.append(materia)\n",
    "\n",
    "print(lista_materia)\n",
    "\n",
    "for i in range(5):\n",
    "  notas = float(input(\"ingrese sus notas: \"))\n",
    "  lista_notas.append(notas)\n",
    "\n",
    "print(lista_notas)\n",
    "\n",
    "\n",
    "for i in range(0,5):\n",
    "  print(lista_materia[i], lista_notas[i])\n",
    "\n",
    "\n",
    "\n",
    "\n",
    "\n",
    "\n"
   ]
  }
 ],
 "metadata": {
  "kernelspec": {
   "display_name": "Python 3",
   "language": "python",
   "name": "python3"
  },
  "language_info": {
   "codemirror_mode": {
    "name": "ipython",
    "version": 3
   },
   "file_extension": ".py",
   "mimetype": "text/x-python",
   "name": "python",
   "nbconvert_exporter": "python",
   "pygments_lexer": "ipython3",
   "version": "3.13.7"
  }
 },
 "nbformat": 4,
 "nbformat_minor": 5
}
