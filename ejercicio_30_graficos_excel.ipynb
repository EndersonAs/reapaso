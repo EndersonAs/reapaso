{
 "cells": [
  {
   "cell_type": "code",
   "execution_count": 10,
   "id": "ad8923b3",
   "metadata": {},
   "outputs": [],
   "source": [
    "import pandas as pd \n",
    "import matplotlib.pyplot as plt"
   ]
  },
  {
   "cell_type": "code",
   "execution_count": 11,
   "id": "e86fd891",
   "metadata": {},
   "outputs": [
    {
     "data": {
      "text/html": [
       "<div>\n",
       "<style scoped>\n",
       "    .dataframe tbody tr th:only-of-type {\n",
       "        vertical-align: middle;\n",
       "    }\n",
       "\n",
       "    .dataframe tbody tr th {\n",
       "        vertical-align: top;\n",
       "    }\n",
       "\n",
       "    .dataframe thead th {\n",
       "        text-align: right;\n",
       "    }\n",
       "</style>\n",
       "<table border=\"1\" class=\"dataframe\">\n",
       "  <thead>\n",
       "    <tr style=\"text-align: right;\">\n",
       "      <th></th>\n",
       "      <th>Fecha</th>\n",
       "      <th>Producto</th>\n",
       "      <th>Cantidad</th>\n",
       "      <th>Precio Unitario</th>\n",
       "      <th>Total</th>\n",
       "    </tr>\n",
       "  </thead>\n",
       "  <tbody>\n",
       "    <tr>\n",
       "      <th>0</th>\n",
       "      <td>2022-06-26</td>\n",
       "      <td>Ratón</td>\n",
       "      <td>10</td>\n",
       "      <td>176.88</td>\n",
       "      <td>1768.80</td>\n",
       "    </tr>\n",
       "    <tr>\n",
       "      <th>1</th>\n",
       "      <td>2023-10-23</td>\n",
       "      <td>Ratón</td>\n",
       "      <td>7</td>\n",
       "      <td>580.49</td>\n",
       "      <td>4063.43</td>\n",
       "    </tr>\n",
       "    <tr>\n",
       "      <th>2</th>\n",
       "      <td>2023-10-14</td>\n",
       "      <td>Auriculares</td>\n",
       "      <td>18</td>\n",
       "      <td>268.94</td>\n",
       "      <td>4840.92</td>\n",
       "    </tr>\n",
       "    <tr>\n",
       "      <th>3</th>\n",
       "      <td>2023-06-17</td>\n",
       "      <td>Teclado</td>\n",
       "      <td>8</td>\n",
       "      <td>718.19</td>\n",
       "      <td>5745.52</td>\n",
       "    </tr>\n",
       "    <tr>\n",
       "      <th>4</th>\n",
       "      <td>2023-02-12</td>\n",
       "      <td>Ratón</td>\n",
       "      <td>10</td>\n",
       "      <td>945.25</td>\n",
       "      <td>9452.50</td>\n",
       "    </tr>\n",
       "    <tr>\n",
       "      <th>5</th>\n",
       "      <td>2024-07-11</td>\n",
       "      <td>Teléfono</td>\n",
       "      <td>1</td>\n",
       "      <td>473.47</td>\n",
       "      <td>473.47</td>\n",
       "    </tr>\n",
       "    <tr>\n",
       "      <th>6</th>\n",
       "      <td>2022-01-22</td>\n",
       "      <td>Monitor</td>\n",
       "      <td>10</td>\n",
       "      <td>217.28</td>\n",
       "      <td>2172.80</td>\n",
       "    </tr>\n",
       "    <tr>\n",
       "      <th>7</th>\n",
       "      <td>2023-09-27</td>\n",
       "      <td>Auriculares</td>\n",
       "      <td>2</td>\n",
       "      <td>612.84</td>\n",
       "      <td>1225.68</td>\n",
       "    </tr>\n",
       "    <tr>\n",
       "      <th>8</th>\n",
       "      <td>2023-03-10</td>\n",
       "      <td>Monitor</td>\n",
       "      <td>18</td>\n",
       "      <td>983.11</td>\n",
       "      <td>17695.98</td>\n",
       "    </tr>\n",
       "    <tr>\n",
       "      <th>9</th>\n",
       "      <td>2024-08-01</td>\n",
       "      <td>Laptop</td>\n",
       "      <td>5</td>\n",
       "      <td>725.37</td>\n",
       "      <td>3626.85</td>\n",
       "    </tr>\n",
       "    <tr>\n",
       "      <th>10</th>\n",
       "      <td>2023-11-04</td>\n",
       "      <td>Teclado</td>\n",
       "      <td>19</td>\n",
       "      <td>393.32</td>\n",
       "      <td>7473.08</td>\n",
       "    </tr>\n",
       "    <tr>\n",
       "      <th>11</th>\n",
       "      <td>2024-12-24</td>\n",
       "      <td>Auriculares</td>\n",
       "      <td>10</td>\n",
       "      <td>263.01</td>\n",
       "      <td>2630.10</td>\n",
       "    </tr>\n",
       "    <tr>\n",
       "      <th>12</th>\n",
       "      <td>2022-08-18</td>\n",
       "      <td>Monitor</td>\n",
       "      <td>7</td>\n",
       "      <td>472.92</td>\n",
       "      <td>3310.44</td>\n",
       "    </tr>\n",
       "    <tr>\n",
       "      <th>13</th>\n",
       "      <td>2022-11-27</td>\n",
       "      <td>Monitor</td>\n",
       "      <td>17</td>\n",
       "      <td>834.79</td>\n",
       "      <td>14191.43</td>\n",
       "    </tr>\n",
       "    <tr>\n",
       "      <th>14</th>\n",
       "      <td>2023-01-26</td>\n",
       "      <td>Monitor</td>\n",
       "      <td>8</td>\n",
       "      <td>818.68</td>\n",
       "      <td>6549.44</td>\n",
       "    </tr>\n",
       "    <tr>\n",
       "      <th>15</th>\n",
       "      <td>2022-01-23</td>\n",
       "      <td>Ratón</td>\n",
       "      <td>11</td>\n",
       "      <td>NaN</td>\n",
       "      <td>NaN</td>\n",
       "    </tr>\n",
       "  </tbody>\n",
       "</table>\n",
       "</div>"
      ],
      "text/plain": [
       "        Fecha     Producto  Cantidad  Precio Unitario     Total\n",
       "0  2022-06-26        Ratón        10           176.88   1768.80\n",
       "1  2023-10-23        Ratón         7           580.49   4063.43\n",
       "2  2023-10-14  Auriculares        18           268.94   4840.92\n",
       "3  2023-06-17      Teclado         8           718.19   5745.52\n",
       "4  2023-02-12        Ratón        10           945.25   9452.50\n",
       "5  2024-07-11     Teléfono         1           473.47    473.47\n",
       "6  2022-01-22      Monitor        10           217.28   2172.80\n",
       "7  2023-09-27  Auriculares         2           612.84   1225.68\n",
       "8  2023-03-10      Monitor        18           983.11  17695.98\n",
       "9  2024-08-01       Laptop         5           725.37   3626.85\n",
       "10 2023-11-04      Teclado        19           393.32   7473.08\n",
       "11 2024-12-24  Auriculares        10           263.01   2630.10\n",
       "12 2022-08-18      Monitor         7           472.92   3310.44\n",
       "13 2022-11-27      Monitor        17           834.79  14191.43\n",
       "14 2023-01-26      Monitor         8           818.68   6549.44\n",
       "15 2022-01-23        Ratón        11              NaN       NaN"
      ]
     },
     "execution_count": 11,
     "metadata": {},
     "output_type": "execute_result"
    }
   ],
   "source": [
    "df = pd.read_excel(r\"C:\\Users\\ANDAP\\Downloads\\ventas_fechas.xlsx\")\n",
    "df"
   ]
  },
  {
   "cell_type": "markdown",
   "id": "60eda123",
   "metadata": {},
   "source": [
    "***Vamos aplicar el filtro sobre el Df para obtener las fechas***"
   ]
  },
  {
   "cell_type": "code",
   "execution_count": 12,
   "id": "6f5a0e77",
   "metadata": {},
   "outputs": [
    {
     "name": "stdout",
     "output_type": "stream",
     "text": [
      "        Fecha Producto  Cantidad  Precio Unitario     Total\n",
      "0  2022-06-26    Ratón        10           176.88   1768.80\n",
      "6  2022-01-22  Monitor        10           217.28   2172.80\n",
      "12 2022-08-18  Monitor         7           472.92   3310.44\n",
      "13 2022-11-27  Monitor        17           834.79  14191.43\n",
      "15 2022-01-23    Ratón        11              NaN       NaN\n",
      "--------------------------------------\n",
      "        Fecha     Producto  Cantidad  Precio Unitario     Total\n",
      "1  2023-10-23        Ratón         7           580.49   4063.43\n",
      "2  2023-10-14  Auriculares        18           268.94   4840.92\n",
      "3  2023-06-17      Teclado         8           718.19   5745.52\n",
      "4  2023-02-12        Ratón        10           945.25   9452.50\n",
      "7  2023-09-27  Auriculares         2           612.84   1225.68\n",
      "8  2023-03-10      Monitor        18           983.11  17695.98\n",
      "10 2023-11-04      Teclado        19           393.32   7473.08\n",
      "14 2023-01-26      Monitor         8           818.68   6549.44\n",
      "--------------------------------------\n",
      "        Fecha     Producto  Cantidad  Precio Unitario    Total\n",
      "5  2024-07-11     Teléfono         1           473.47   473.47\n",
      "9  2024-08-01       Laptop         5           725.37  3626.85\n",
      "11 2024-12-24  Auriculares        10           263.01  2630.10\n"
     ]
    }
   ],
   "source": [
    "df_2022 = df[df[\"Fecha\"].dt.year == 2022]\n",
    "df_2023 = df[df[\"Fecha\"].dt.year == 2023]\n",
    "df_2024 = df[df[\"Fecha\"].dt.year == 2024]\n",
    "print(df_2022)\n",
    "print(\"--------------------------------------\")\n",
    "print(df_2023)\n",
    "print(\"--------------------------------------\")\n",
    "print(df_2024)"
   ]
  },
  {
   "cell_type": "code",
   "execution_count": 19,
   "id": "0c0975b6",
   "metadata": {},
   "outputs": [],
   "source": [
    "ventales_2022 = df_2022[\"Total\"].sum() \n",
    "ventales_2023 = df_2023[\"Total\"].sum()\n",
    "ventales_2024 = df_2024[\"Total\"].sum()"
   ]
  },
  {
   "cell_type": "code",
   "execution_count": 28,
   "id": "50c45127",
   "metadata": {},
   "outputs": [
    {
     "data": {
      "image/png": "[encoded data removed]",
      "text/plain": [
       "<Figure size 640x480 with 1 Axes>"
      ]
     },
     "metadata": {},
     "output_type": "display_data"
    }
   ],
   "source": [
    "años = [2022, 2023, 2024]\n",
    "ventas = [ventales_2022, ventales_2023, ventales_2024]\n",
    "colores = [\"red\", \"blue\", \"purple\"]\n",
    "\n",
    "\n",
    "barras =plt.bar(años, ventas, color=colores)\n",
    "plt.gca().bar_label(barras)\n",
    "plt.xticks(años)\n",
    "plt.show()\n",
    "\n"
   ]
  },
  {
   "cell_type": "code",
   "execution_count": 30,
   "id": "28057baa",
   "metadata": {},
   "outputs": [
    {
     "data": {
      "image/png": "[encoded data removed]",
      "text/plain": [
       "<Figure size 640x480 with 1 Axes>"
      ]
     },
     "metadata": {},
     "output_type": "display_data"
    }
   ],
   "source": [
    "años_1 = [2022, 2023, 2024]\n",
    "ventas_1 = []\n",
    "\n",
    "def calcular_datos():\n",
    "    for año in años:\n",
    "        df_filtrado = df[df[\"Fecha\"].dt.year == año]\n",
    "        suma_ventas = df_filtrado[\"Total\"].sum()\n",
    "        ventas.append(suma_ventas)\n",
    "calcular_datos\n",
    "\n",
    "colores = [\"red\", \"gray\", \"purple\"]\n",
    "\n",
    "\n",
    "barras_1 =plt.bar(años, ventas, color=colores)\n",
    "plt.gca().bar_label(barras_1)\n",
    "plt.xticks(años)\n",
    "plt.show()"
   ]
  }
 ],
 "metadata": {
  "kernelspec": {
   "display_name": "Python 3",
   "language": "python",
   "name": "python3"
  },
  "language_info": {
   "codemirror_mode": {
    "name": "ipython",
    "version": 3
   },
   "file_extension": ".py",
   "mimetype": "text/x-python",
   "name": "python",
   "nbconvert_exporter": "python",
   "pygments_lexer": "ipython3",
   "version": "3.13.8"
  }
 },
 "nbformat": 4,
 "nbformat_minor": 5
}
