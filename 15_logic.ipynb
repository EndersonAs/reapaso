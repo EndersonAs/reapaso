{
 "cells": [
  {
   "cell_type": "code",
   "execution_count": 2,
   "id": "a18ddf5b",
   "metadata": {},
   "outputs": [
    {
     "name": "stdout",
     "output_type": "stream",
     "text": [
      "AND\n",
      "True and True =>  True\n",
      "False and True =>  False\n",
      "True and False =>  False\n",
      "False and False =>  False\n"
     ]
    }
   ],
   "source": [
    "#and \n",
    "print(\"AND\")\n",
    "print(\"True and True => \", True and True)\n",
    "print(\"False and True => \", False and True)\n",
    "print(\"True and False => \", True and False)\n",
    "print(\"False and False => \", False and False)"
   ]
  },
  {
   "cell_type": "code",
   "execution_count": null,
   "id": "5fe034bc",
   "metadata": {},
   "outputs": [
    {
     "name": "stdout",
     "output_type": "stream",
     "text": [
      "or\n",
      "True and True =>  True\n",
      "False and True =>  True\n",
      "True and False =>  True\n",
      "False and False =>  False\n"
     ]
    }
   ],
   "source": [
    "print(\"OR\")\n",
    "print(\"True and True => \", True or True)\n",
    "print(\"False and True => \", False or True)\n",
    "print(\"True and False => \", True or False)\n",
    "print(\"False and False => \", False or False)"
   ]
  },
  {
   "cell_type": "code",
   "execution_count": null,
   "id": "92d57d5e",
   "metadata": {},
   "outputs": [
    {
     "name": "stdout",
     "output_type": "stream",
     "text": [
      "True\n",
      "False\n"
     ]
    }
   ],
   "source": [
    "print(10 > 5 and 5 < 10)\n",
    "print(10 > 5 and 5 > 10)"
   ]
  },
  {
   "cell_type": "code",
   "execution_count": 7,
   "id": "d04f33c4",
   "metadata": {},
   "outputs": [
    {
     "name": "stdout",
     "output_type": "stream",
     "text": [
      "False\n",
      "True\n"
     ]
    }
   ],
   "source": [
    "# operador NOT\n",
    "\n",
    "print(not True)\n",
    "print(not False)"
   ]
  }
 ],
 "metadata": {
  "kernelspec": {
   "display_name": "Python 3",
   "language": "python",
   "name": "python3"
  },
  "language_info": {
   "codemirror_mode": {
    "name": "ipython",
    "version": 3
   },
   "file_extension": ".py",
   "mimetype": "text/x-python",
   "name": "python",
   "nbconvert_exporter": "python",
   "pygments_lexer": "ipython3",
   "version": "3.13.7"
  }
 },
 "nbformat": 4,
 "nbformat_minor": 5
}
