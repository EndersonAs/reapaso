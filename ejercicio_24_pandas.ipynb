{
 "cells": [
  {
   "cell_type": "markdown",
   "id": "3419d3f9",
   "metadata": {},
   "source": [
    "<h3> Instalación de librerias </h3>"
   ]
  },
  {
   "cell_type": "code",
   "execution_count": 69,
   "id": "41c16aed",
   "metadata": {},
   "outputs": [
    {
     "name": "stdout",
     "output_type": "stream",
     "text": [
      "Defaulting to user installation because normal site-packages is not writeable\n",
      "Requirement already satisfied: word2number_es in c:\\users\\andap\\appdata\\local\\packages\\pythonsoftwarefoundation.python.3.13_qbz5n2kfra8p0\\localcache\\local-packages\\python313\\site-packages (1.0.1)\n"
     ]
    }
   ],
   "source": [
    "\n",
    "! pip install word2number_es"
   ]
  },
  {
   "cell_type": "markdown",
   "id": "d89925a1",
   "metadata": {},
   "source": [
    "<h3> import de Librerias </h3>"
   ]
  },
  {
   "cell_type": "code",
   "execution_count": 70,
   "id": "ae32bd8a",
   "metadata": {},
   "outputs": [],
   "source": [
    "import pandas as pd\n",
    "from word2number_es import w2n"
   ]
  },
  {
   "cell_type": "markdown",
   "id": "f3c818e0",
   "metadata": {},
   "source": [
    "<h3> leer archivos pandas </h3>"
   ]
  },
  {
   "cell_type": "code",
   "execution_count": 71,
   "id": "621e9c59",
   "metadata": {},
   "outputs": [
    {
     "name": "stdout",
     "output_type": "stream",
     "text": [
      "  Producto_ID       Nombre Categoria  Precio\n",
      "0        P001   Producto_1    Frutas    2834\n",
      "1        P002   Producto_2    Frutas    2680\n",
      "2        P003   Producto_3   Bebidas    2819\n",
      "3        P004   Producto_4   Bebidas    2874\n",
      "4        P005   Producto_5    Frutas    4349\n",
      "5        P006   Producto_6   Bebidas    4757\n",
      "6        P007   Producto_7  Verduras    3529\n",
      "7        P008   Producto_8   Lácteos    1761\n",
      "8        P009   Producto_9    Frutas    2365\n",
      "9        P010  Producto_10   Lácteos    1434\n",
      "-----------------------------------------------------------\n",
      "  Venta_ID Producto_ID Cantidad          Fecha_Venta\n",
      "0    V0001        P019   cuatro           01-01-2025\n",
      "1    V0002         NaN   cuatro  2025-01-02 00:00:00\n",
      "2    V0003        P010      NaN           03-01-2025\n",
      "3    V0004        P013      NaN           04-01-2025\n",
      "4    V0005        P011        5  2025-10-30 00:00:00\n",
      "5    V0006        P016      dos  2025-01-06 00:00:00\n",
      "6    V0007         NaN        2  2022-08-05 00:00:00\n",
      "7    V0008        P014      NaN           08-01-2025\n",
      "8    V0009        P017   cuatro           09-01-2025\n",
      "9    V0010        P003        2           10-01-2025\n",
      "-----------------------------------------------------------\n",
      "<class 'pandas.core.frame.DataFrame'>\n",
      "RangeIndex: 20 entries, 0 to 19\n",
      "Data columns (total 4 columns):\n",
      " #   Column       Non-Null Count  Dtype \n",
      "---  ------       --------------  ----- \n",
      " 0   Producto_ID  20 non-null     object\n",
      " 1   Nombre       20 non-null     object\n",
      " 2   Categoria    20 non-null     object\n",
      " 3   Precio       20 non-null     int64 \n",
      "dtypes: int64(1), object(3)\n",
      "memory usage: 772.0+ bytes\n",
      "<class 'pandas.core.frame.DataFrame'>\n",
      "RangeIndex: 100 entries, 0 to 99\n",
      "Data columns (total 4 columns):\n",
      " #   Column       Non-Null Count  Dtype \n",
      "---  ------       --------------  ----- \n",
      " 0   Venta_ID     100 non-null    object\n",
      " 1   Producto_ID  98 non-null     object\n",
      " 2   Cantidad     97 non-null     object\n",
      " 3   Fecha_Venta  100 non-null    object\n",
      "dtypes: object(4)\n",
      "memory usage: 3.3+ KB\n"
     ]
    }
   ],
   "source": [
    "df_productos = pd.read_excel(r\"C:\\Users\\ANDAP\\Downloads\\productos.xlsx\")\n",
    "print(df_productos.head(10))\n",
    "print(\"-----------------------------------------------------------\")\n",
    "df_ventas = pd.read_excel(r\"C:\\Users\\ANDAP\\Downloads\\ventas.xlsx\")\n",
    "print(df_ventas.head(10))\n",
    "print(\"-----------------------------------------------------------\")\n",
    "df_productos.info()\n",
    "df_ventas.info()\n"
   ]
  },
  {
   "cell_type": "markdown",
   "id": "6002c6cc",
   "metadata": {},
   "source": [
    "<h3>limpiar los datos de ventas</h3>"
   ]
  },
  {
   "cell_type": "code",
   "execution_count": 72,
   "id": "e8b5e0fa",
   "metadata": {},
   "outputs": [
    {
     "name": "stdout",
     "output_type": "stream",
     "text": [
      "5\n"
     ]
    }
   ],
   "source": [
    "print(w2n.word_to_num(\"cinco\")) "
   ]
  },
  {
   "cell_type": "code",
   "execution_count": 73,
   "id": "f6d715c8",
   "metadata": {},
   "outputs": [
    {
     "name": "stdout",
     "output_type": "stream",
     "text": [
      "  Venta_ID Producto_ID  Cantidad          Fecha_Venta\n",
      "0    V0001        P019       4.0           01-01-2025\n",
      "1    V0002         NaN       4.0  2025-01-02 00:00:00\n",
      "2    V0003        P010       NaN           03-01-2025\n",
      "3    V0004        P013       NaN           04-01-2025\n",
      "4    V0005        P011       5.0  2025-10-30 00:00:00\n",
      "5    V0006        P016       2.0  2025-01-06 00:00:00\n",
      "6    V0007         NaN       2.0  2022-08-05 00:00:00\n",
      "7    V0008        P014       NaN           08-01-2025\n",
      "8    V0009        P017       4.0           09-01-2025\n",
      "9    V0010        P003       2.0           10-01-2025\n"
     ]
    }
   ],
   "source": [
    "def convertir_numero (data):\n",
    "    try:\n",
    "        return pd.to_numeric(data)\n",
    "    except:\n",
    "        return w2n.word_to_num(str(data))\n",
    "    \n",
    "df_ventas[\"Cantidad\"] = df_ventas[\"Cantidad\"].apply(convertir_numero)\n",
    "#df_ventas[\"Cantidad\"] = df_ventas[\"Cantidad\"].astype(int)\n",
    "\n",
    "print(df_ventas.head(10))"
   ]
  },
  {
   "cell_type": "markdown",
   "id": "6fc2c92f",
   "metadata": {},
   "source": [
    "<h3>Estandarizar fecha</h3>"
   ]
  },
  {
   "cell_type": "code",
   "execution_count": 74,
   "id": "55e341ce",
   "metadata": {},
   "outputs": [
    {
     "name": "stdout",
     "output_type": "stream",
     "text": [
      "   Venta_ID Producto_ID  Cantidad Fecha_Venta\n",
      "0     V0001        P019       4.0  2025-01-01\n",
      "1     V0002         NaN       4.0  2025-01-02\n",
      "2     V0003        P010       NaN  2025-01-03\n",
      "3     V0004        P013       NaN  2025-01-04\n",
      "4     V0005        P011       5.0  2025-10-30\n",
      "5     V0006        P016       2.0  2025-01-06\n",
      "6     V0007         NaN       2.0  2022-08-05\n",
      "7     V0008        P014       NaN  2025-01-08\n",
      "8     V0009        P017       4.0  2025-01-09\n",
      "9     V0010        P003       2.0  2025-01-10\n",
      "10    V0011        P012       3.0  2025-01-11\n",
      "11    V0012        P003       1.0  2025-01-12\n",
      "12    V0013        P009       4.0  2025-01-13\n",
      "13    V0014        P015       1.0  2025-01-14\n",
      "14    V0015        P010       2.0  2025-01-15\n",
      "15    V0016        P008       2.0  2025-01-16\n",
      "16    V0017        P004       2.0  2025-01-17\n",
      "17    V0018        P002       5.0  2025-01-18\n",
      "18    V0019        P008       1.0  2025-01-19\n",
      "19    V0020        P010       3.0  2025-01-20\n",
      "20    V0021        P015       3.0  2025-01-21\n",
      "21    V0022        P016       2.0  2025-01-22\n",
      "22    V0023        P003       3.0  2025-01-23\n",
      "23    V0024        P015       4.0  2025-01-24\n",
      "24    V0025        P010       4.0  2025-01-25\n",
      "25    V0026        P018       1.0  2025-01-26\n",
      "26    V0027        P018       1.0  2025-01-27\n",
      "27    V0028        P020       5.0  2025-01-28\n",
      "28    V0029        P009       1.0  2025-01-29\n",
      "29    V0030        P002       3.0  2025-01-30\n",
      "30    V0031        P008       5.0  2025-01-31\n",
      "31    V0032        P018       1.0  2025-02-01\n",
      "32    V0033        P006       4.0  2025-02-02\n",
      "33    V0034        P013       3.0  2025-02-03\n",
      "34    V0035        P011       1.0  2025-02-04\n",
      "35    V0036        P011       1.0  2025-02-05\n",
      "36    V0037        P008       4.0  2025-02-06\n",
      "37    V0038        P016       1.0  2025-02-07\n",
      "38    V0039        P015       2.0  2025-02-08\n",
      "39    V0040        P008       4.0  2025-02-09\n",
      "40    V0041        P010       5.0  2025-02-10\n",
      "41    V0042        P013       2.0  2025-02-11\n",
      "42    V0043        P003       2.0  2025-02-12\n",
      "43    V0044        P013       2.0  2025-02-13\n",
      "44    V0045        P014       4.0  2025-02-14\n",
      "45    V0046        P010       1.0  2025-02-15\n",
      "46    V0047        P006       3.0  2025-02-16\n",
      "47    V0048        P004       2.0  2025-02-17\n",
      "48    V0049        P019       4.0  2025-02-18\n",
      "49    V0050        P012       2.0  2025-02-19\n"
     ]
    },
    {
     "name": "stderr",
     "output_type": "stream",
     "text": [
      "C:\\Users\\ANDAP\\AppData\\Local\\Temp\\ipykernel_7472\\280276236.py:1: FutureWarning: errors='ignore' is deprecated and will raise in a future version. Use to_datetime without passing `errors` and catch exceptions explicitly instead\n",
      "  df_ventas[\"Fecha_Venta\"] = pd.to_datetime(df_ventas[\"Fecha_Venta\"], errors= \"ignore\", format= \"%d-%m-%Y\")\n",
      "C:\\Users\\ANDAP\\AppData\\Local\\Temp\\ipykernel_7472\\280276236.py:2: FutureWarning: errors='ignore' is deprecated and will raise in a future version. Use to_datetime without passing `errors` and catch exceptions explicitly instead\n",
      "  df_ventas[\"Fecha_Venta\"] = pd.to_datetime(df_ventas[\"Fecha_Venta\"], errors= \"ignore\", format= \"%d/%m/%Y\")\n",
      "C:\\Users\\ANDAP\\AppData\\Local\\Temp\\ipykernel_7472\\280276236.py:3: FutureWarning: errors='ignore' is deprecated and will raise in a future version. Use to_datetime without passing `errors` and catch exceptions explicitly instead\n",
      "  df_ventas[\"Fecha_Venta\"] = pd.to_datetime(df_ventas[\"Fecha_Venta\"], errors= \"ignore\", format= \"%Y-%m-%d\")\n"
     ]
    }
   ],
   "source": [
    "df_ventas[\"Fecha_Venta\"] = pd.to_datetime(df_ventas[\"Fecha_Venta\"], errors= \"ignore\", format= \"%d-%m-%Y\")\n",
    "df_ventas[\"Fecha_Venta\"] = pd.to_datetime(df_ventas[\"Fecha_Venta\"], errors= \"ignore\", format= \"%d/%m/%Y\")\n",
    "df_ventas[\"Fecha_Venta\"] = pd.to_datetime(df_ventas[\"Fecha_Venta\"], errors= \"ignore\", format= \"%Y-%m-%d\")\n",
    "\n",
    "#df_ventas[\"Fecha_Venta\"] = df_ventas[\"Fecha_Venta\"].astype(\"date32[pyarrow]\")\n",
    "print(df_ventas.head(50))\n"
   ]
  },
  {
   "cell_type": "code",
   "execution_count": 79,
   "id": "b05b9d82",
   "metadata": {},
   "outputs": [
    {
     "name": "stdout",
     "output_type": "stream",
     "text": [
      "   Venta_ID Producto_ID  Cantidad Fecha_Venta\n",
      "0     V0001        P019       4.0  2025-01-01\n",
      "2     V0003        P010       3.0  2025-01-03\n",
      "3     V0004        P013       3.0  2025-01-04\n",
      "4     V0005        P011       5.0  2025-10-30\n",
      "5     V0006        P016       2.0  2025-01-06\n",
      "7     V0008        P014       3.0  2025-01-08\n",
      "8     V0009        P017       4.0  2025-01-09\n",
      "9     V0010        P003       2.0  2025-01-10\n",
      "10    V0011        P012       3.0  2025-01-11\n",
      "11    V0012        P003       1.0  2025-01-12\n",
      "12    V0013        P009       4.0  2025-01-13\n",
      "13    V0014        P015       1.0  2025-01-14\n",
      "14    V0015        P010       2.0  2025-01-15\n",
      "15    V0016        P008       2.0  2025-01-16\n",
      "16    V0017        P004       2.0  2025-01-17\n",
      "17    V0018        P002       5.0  2025-01-18\n",
      "18    V0019        P008       1.0  2025-01-19\n",
      "19    V0020        P010       3.0  2025-01-20\n",
      "20    V0021        P015       3.0  2025-01-21\n",
      "21    V0022        P016       2.0  2025-01-22\n",
      "22    V0023        P003       3.0  2025-01-23\n",
      "23    V0024        P015       4.0  2025-01-24\n",
      "24    V0025        P010       4.0  2025-01-25\n",
      "25    V0026        P018       1.0  2025-01-26\n",
      "26    V0027        P018       1.0  2025-01-27\n",
      "27    V0028        P020       5.0  2025-01-28\n",
      "28    V0029        P009       1.0  2025-01-29\n",
      "29    V0030        P002       3.0  2025-01-30\n",
      "30    V0031        P008       5.0  2025-01-31\n",
      "31    V0032        P018       1.0  2025-02-01\n",
      "32    V0033        P006       4.0  2025-02-02\n",
      "33    V0034        P013       3.0  2025-02-03\n",
      "34    V0035        P011       1.0  2025-02-04\n",
      "35    V0036        P011       1.0  2025-02-05\n",
      "36    V0037        P008       4.0  2025-02-06\n",
      "37    V0038        P016       1.0  2025-02-07\n",
      "38    V0039        P015       2.0  2025-02-08\n",
      "39    V0040        P008       4.0  2025-02-09\n",
      "40    V0041        P010       5.0  2025-02-10\n",
      "41    V0042        P013       2.0  2025-02-11\n",
      "42    V0043        P003       2.0  2025-02-12\n",
      "43    V0044        P013       2.0  2025-02-13\n",
      "44    V0045        P014       4.0  2025-02-14\n",
      "45    V0046        P010       1.0  2025-02-15\n",
      "46    V0047        P006       3.0  2025-02-16\n",
      "47    V0048        P004       2.0  2025-02-17\n",
      "48    V0049        P019       4.0  2025-02-18\n",
      "49    V0050        P012       2.0  2025-02-19\n",
      "50    V0051        P009       5.0  2025-02-20\n",
      "51    V0052        P017       5.0  2025-02-21\n"
     ]
    }
   ],
   "source": [
    "df_ventas.dropna(subset=[\"Producto_ID\"], inplace=True)\n",
    "prom = round(df_ventas[\"Cantidad\"].mean(),0)\n",
    "df_ventas[\"Cantidad\"] = df_ventas[\"Cantidad\"].fillna(prom)\n",
    "print(df_ventas.head(50))\n"
   ]
  },
  {
   "cell_type": "code",
   "execution_count": null,
   "id": "dabf255a",
   "metadata": {},
   "outputs": [],
   "source": []
  }
 ],
 "metadata": {
  "kernelspec": {
   "display_name": "Python 3",
   "language": "python",
   "name": "python3"
  },
  "language_info": {
   "codemirror_mode": {
    "name": "ipython",
    "version": 3
   },
   "file_extension": ".py",
   "mimetype": "text/x-python",
   "name": "python",
   "nbconvert_exporter": "python",
   "pygments_lexer": "ipython3",
   "version": "3.13.7"
  }
 },
 "nbformat": 4,
 "nbformat_minor": 5
}
