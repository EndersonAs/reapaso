{
 "cells": [
  {
   "cell_type": "markdown",
   "id": "9eb8e818",
   "metadata": {},
   "source": [
    "Esta es una prueba de codigo con  input"
   ]
  },
  {
   "cell_type": "code",
   "execution_count": null,
   "id": "779f300f",
   "metadata": {},
   "outputs": [
    {
     "name": "stdout",
     "output_type": "stream",
     "text": [
      "Five is greater than two!\n"
     ]
    }
   ],
   "source": [
    "# -solo es un ejercicio de espaiado \n",
    "if 5 > 2: \n",
    "    print (\"Five is greater than two!\")"
   ]
  },
  {
   "cell_type": "code",
   "execution_count": null,
   "id": "38d46020",
   "metadata": {},
   "outputs": [
    {
     "name": "stdout",
     "output_type": "stream",
     "text": [
      "perro\n",
      "gato\n",
      "raton\n"
     ]
    }
   ],
   "source": [
    "x, y, z = \"perro\", \"gato\", \"raton\"  #asignacion multiples variable en una sola linea \n",
    "print(x)\n",
    "print(y)    \n",
    "print(z)\n"
   ]
  },
  {
   "cell_type": "code",
   "execution_count": 6,
   "id": "fdddb714",
   "metadata": {},
   "outputs": [
    {
     "name": "stdout",
     "output_type": "stream",
     "text": [
      "manzana\n"
     ]
    }
   ],
   "source": [
    "frutas = [\"manzana\", \"banana\", \"cereza\"] #lista \n",
    "x, y, z = frutas  #asignacion multiple con listas\n",
    "print(x)"
   ]
  },
  {
   "cell_type": "code",
   "execution_count": 7,
   "id": "794ee600",
   "metadata": {},
   "outputs": [
    {
     "name": "stdout",
     "output_type": "stream",
     "text": [
      "Python es sencillo\n"
     ]
    }
   ],
   "source": [
    "x = \"Python\"\n",
    "y = \"es\"\n",
    "z = \"sencillo\"\n",
    "print(x, y, z)"
   ]
  },
  {
   "cell_type": "code",
   "execution_count": 10,
   "id": "ff237e5e",
   "metadata": {},
   "outputs": [
    {
     "name": "stdout",
     "output_type": "stream",
     "text": [
      "Pythonessencillo\n",
      "Python es sencillo\n"
     ]
    }
   ],
   "source": [
    "x = \"Python\"\n",
    "y = \"es\"\n",
    "z = \"sencillo\"\n",
    "print(x + y + z)\n",
    "\n",
    "a = \"Python \"\n",
    "b = \"es \"\n",
    "c = \"sencillo\"\n",
    "print(a + b + c)"
   ]
  },
  {
   "cell_type": "code",
   "execution_count": 11,
   "id": "89842c09",
   "metadata": {},
   "outputs": [
    {
     "name": "stdout",
     "output_type": "stream",
     "text": [
      "9\n"
     ]
    }
   ],
   "source": [
    "x = 6\n",
    "y = 3\n",
    "print(x + y)"
   ]
  },
  {
   "cell_type": "code",
   "execution_count": null,
   "id": "1a1edb5e",
   "metadata": {},
   "outputs": [
    {
     "name": "stdout",
     "output_type": "stream",
     "text": [
      "<class 'str'>\n",
      "<class 'int'>\n",
      "<class 'float'>\n",
      "<class 'bool'>\n"
     ]
    }
   ],
   "source": [
    "x = \"Gato\"\n",
    "y = 72584   \n",
    "z = 3.5\n",
    "w = True\n",
    "print(type(x))\n",
    "print(type(y))\n",
    "print(type(z))\n",
    "print(type(w))"
   ]
  },
  {
   "cell_type": "code",
   "execution_count": 13,
   "id": "4a527506",
   "metadata": {},
   "outputs": [
    {
     "name": "stdout",
     "output_type": "stream",
     "text": [
      "Gato 72584 3.5 True\n"
     ]
    }
   ],
   "source": [
    "x = \"Gato\"\n",
    "y = 72584   \n",
    "z = 3.5\n",
    "w = True\n",
    "print (x, y, z, w)"
   ]
  },
  {
   "cell_type": "code",
   "execution_count": 2,
   "id": "d7fee4fd",
   "metadata": {},
   "outputs": [
    {
     "name": "stdout",
     "output_type": "stream",
     "text": [
      "codigo funte, Numero Razo 72584\n"
     ]
    }
   ],
   "source": [
    "# funcion sencilla de python\n",
    "\n",
    "x = 72584\n",
    "def myFunction():\n",
    "  print( \"codigo funte, Numero Razo\", x)\n",
    "\n",
    "myFunction() \n"
   ]
  },
  {
   "cell_type": "code",
   "execution_count": null,
   "id": "6584dc53",
   "metadata": {},
   "outputs": [
    {
     "name": "stdout",
     "output_type": "stream",
     "text": [
      "Python is fantastic\n",
      "Python is awesome\n"
     ]
    }
   ],
   "source": [
    "X = \"awesome\"\n",
    "\n",
    "def myfunc():\n",
    "    x = \"fantastic\"\n",
    "    print(\"Python is \" + x)#local variable\n",
    "myfunc()\n",
    "\n",
    "print(\"Python is \" + X) #global variable"
   ]
  },
  {
   "cell_type": "code",
   "execution_count": 20,
   "id": "f7f40eeb",
   "metadata": {},
   "outputs": [
    {
     "name": "stdout",
     "output_type": "stream",
     "text": [
      "Python is fantastic\n"
     ]
    }
   ],
   "source": [
    "def myfunc():\n",
    "  global x\n",
    "  x = \"fantastic\"\n",
    "\n",
    "myfunc()\n",
    "\n",
    "print(\"Python is \" + x)"
   ]
  },
  {
   "cell_type": "code",
   "execution_count": 6,
   "id": "fd2a432b",
   "metadata": {},
   "outputs": [
    {
     "name": "stdout",
     "output_type": "stream",
     "text": [
      "carlos\n",
      "ana\n",
      "['luis', 'maria', 'carlos']\n",
      "['juan', 'luis', 'maria']\n",
      "['ana', 'juan', 'luis', 'maria']\n",
      "['maria', 'carlos', 'sofia', 'jose', 'laura']\n",
      "['ana', 'juan', 'luis', 'maria', 'carlos', 'sofia', 'jose', 'laura']\n"
     ]
    }
   ],
   "source": [
    "nombre = [\"ana\", \"juan\", \"luis\", \"maria\", \"carlos\", \"sofia\", \"jose\", \"laura\"]\n",
    "print(nombre[-4])   \n",
    "print(nombre[0])\n",
    "print(nombre[2:5])\n",
    "print(nombre[1:4])\n",
    "print(nombre[:4])\n",
    "print(nombre[3:])\n",
    "print(nombre)"
   ]
  },
  {
   "cell_type": "code",
   "execution_count": 7,
   "id": "dd31b415",
   "metadata": {},
   "outputs": [
    {
     "name": "stdout",
     "output_type": "stream",
     "text": [
      "[20.5, 22.3, 19.8, 21.0, 23.5, 20.0]\n",
      "[20.5, 22.3, 19.8, 21.0, 23.5, 20.0, 24.1]\n",
      "[20.5, 22.3, 18.5, 19.8, 21.0, 23.5, 20.0, 24.1]\n",
      "[20.5, 22.3, 18.5, 21.0, 23.5, 20.0, 24.1]\n",
      "[20.5, 22.3, 18.5, 21.0, 23.5, 20.0]\n",
      "1\n",
      "1\n"
     ]
    }
   ],
   "source": [
    "temperatura = [20.5, 22.3, 19.8, 21.0, 23.5, 20.0]\n",
    "print(temperatura)\n",
    "temperatura.append(24.1)  #agregar un elemento al final de la lista\n",
    "print(temperatura)\n",
    "temperatura.insert(2, 18.5) #insertar un elemento en una posicion\n",
    "print(temperatura)\n",
    "temperatura.remove(19.8) #eliminar un elemento por valor\n",
    "print(temperatura)\n",
    "temperatura.pop() #eliminar el ultimo elemento\n",
    "print(temperatura)\n",
    "print(temperatura.index(22.3)) #buscar el indice de un elemento\n",
    "print(temperatura.count(20.5)) #contar cuantas veces aparece un elemento\n",
    "\n"
   ]
  },
  {
   "cell_type": "code",
   "execution_count": 10,
   "id": "a2f8df20",
   "metadata": {},
   "outputs": [
    {
     "name": "stdout",
     "output_type": "stream",
     "text": [
      "['perro', 'gato', 'raton']\n",
      "['perro', 'conejo', 'raton']\n",
      "('perro', 'gato', 'raton')\n"
     ]
    }
   ],
   "source": [
    "animal = [\"perro\", \"gato\", \"raton\"]\n",
    "print(animal)\n",
    "animal[1] = \"conejo\"  #modificar un elemento de la lista\n",
    "print(animal)\n",
    "\n",
    "animales =(\"perro\", \"gato\", \"raton\") #tupla\n",
    "print(animales)\n",
    "#animales[1] = \"conejo\"  #no se puede modificar una tupla"
   ]
  },
  {
   "cell_type": "code",
   "execution_count": null,
   "id": "856c3742",
   "metadata": {},
   "outputs": [
    {
     "name": "stdout",
     "output_type": "stream",
     "text": [
      "{'nombre': 'Juan', 'edad': 30, 'ciudad': 'Madrid'}\n",
      "Juan\n",
      "30\n"
     ]
    }
   ],
   "source": [
    "#diccionarios\n",
    "persona = {\n",
    "  \"nombre\": \"Juan\", #key value\n",
    "  \"edad\": 30,\n",
    "  \"ciudad\": \"Madrid\"\n",
    "}\n",
    "\n",
    "print(persona)\n",
    "print(persona[\"nombre\"])\n",
    "print(persona[\"edad\"])"
   ]
  },
  {
   "cell_type": "code",
   "execution_count": 1,
   "id": "715f46e8",
   "metadata": {},
   "outputs": [
    {
     "name": "stdout",
     "output_type": "stream",
     "text": [
      "{'nombre': ['Juan', 'Ana', 'Luis'], 'edad': [30, 25, 28], 'ciudad': ['Madrid', 'Barcelona', 'Valencia'], 'hobbies': ['futbol', 'musica', 'cine']}\n",
      "['Juan', 'Ana', 'Luis']\n"
     ]
    }
   ],
   "source": [
    "#lista dentro de un diccionario\n",
    "persona = {\n",
    "  \"nombre\": [\"Juan\", \"Ana\", \"Luis\"],\n",
    "  \"edad\": [30, 25, 28],\n",
    "  \"ciudad\": [\"Madrid\", \"Barcelona\", \"Valencia\"],\n",
    "  \"hobbies\": [\"futbol\", \"musica\", \"cine\"]\n",
    "}\n",
    "print(persona)\n",
    "print(persona[\"nombre\"])"
   ]
  },
  {
   "cell_type": "code",
   "execution_count": 14,
   "id": "fe136fe7",
   "metadata": {},
   "outputs": [
    {
     "name": "stdout",
     "output_type": "stream",
     "text": [
      "[5, 10, 15, 20, 25]\n",
      "[5, 10, 35, 20, 25]\n",
      "[5, 10, 35, 20, 25, 72584]\n",
      "6\n",
      "5\n",
      "[5, 10, 20, 25, 35, 72584]\n"
     ]
    }
   ],
   "source": [
    "myList = [5, 10, 15, 20, 25]\n",
    "print(myList)\n",
    "myList[2] = 35  #modificar un elemento de la lista\n",
    "print(myList)\n",
    "\n",
    "myList.append(72584)\n",
    "print(myList)\n",
    "size = len(myList)\n",
    "print(size)\n",
    "\n",
    "position = myList.index(72584)\n",
    "print(position)\n",
    "\n",
    "myList.sort()\n",
    "print(myList)\n",
    "\n"
   ]
  },
  {
   "cell_type": "code",
   "execution_count": null,
   "id": "4abf03ec",
   "metadata": {},
   "outputs": [
    {
     "name": "stdout",
     "output_type": "stream",
     "text": [
      "[['Jonier', 'ingeniero', '32'], ['Steven', 'ingeniero', '32']]\n",
      "['Steven', 'ingeniero', '32']\n",
      "Steven\n",
      "<class 'list'>\n",
      "2\n",
      "3\n"
     ]
    },
    {
     "data": {
      "text/plain": [
       "2"
      ]
     },
     "execution_count": 24,
     "metadata": {},
     "output_type": "execute_result"
    }
   ],
   "source": [
    "#codigo bidimencional\n",
    "\n",
    "personas = [[\"Jonier\", \"ingeniero\", \"32\"],[\"Steven\", \"ingeniero\", \"32\"]]\n",
    "print(personas)\n",
    "print(personas[1])\n",
    "print(personas[1][0])\n",
    "\n",
    "print(type(personas))\n",
    "print(len(personas))\n",
    "print(len(personas[1]))\n",
    "\n",
    "len(personas) # puedo imprimer sin necesidad de usar print\n"
   ]
  },
  {
   "cell_type": "code",
   "execution_count": 26,
   "id": "bcae4a28",
   "metadata": {},
   "outputs": [
    {
     "name": "stdout",
     "output_type": "stream",
     "text": [
      "(5, 10, 15, 20, 25)\n",
      "((5, 10, 15), (20, 25, 30), (35, 40, 45), (50, 55, 60))\n",
      "(35, 40, 45)\n",
      "40\n"
     ]
    }
   ],
   "source": [
    "#ejercicio con tuplas \n",
    "tupla = (5, 10, 15, 20, 25)\n",
    "print(tupla)\n",
    "\n",
    "tuplaBi = (\n",
    "    (5, 10, 15), \n",
    "    (20, 25, 30), \n",
    "    (35, 40, 45), \n",
    "    (50, 55, 60)\n",
    "    )\n",
    "\n",
    "print(tuplaBi)\n",
    "print(tuplaBi[2])\n",
    "print(tuplaBi[2][1])"
   ]
  }
 ],
 "metadata": {
  "kernelspec": {
   "display_name": "Python 3",
   "language": "python",
   "name": "python3"
  },
  "language_info": {
   "codemirror_mode": {
    "name": "ipython",
    "version": 3
   },
   "file_extension": ".py",
   "mimetype": "text/x-python",
   "name": "python",
   "nbconvert_exporter": "python",
   "pygments_lexer": "ipython3",
   "version": "3.13.7"
  }
 },
 "nbformat": 4,
 "nbformat_minor": 5
}
