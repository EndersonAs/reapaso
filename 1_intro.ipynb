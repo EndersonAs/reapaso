{
 "cells": [
  {
   "cell_type": "markdown",
   "id": "9eb8e818",
   "metadata": {},
   "source": [
    "Esta es una prueba de codigo con  input"
   ]
  },
  {
   "cell_type": "code",
   "execution_count": null,
   "id": "779f300f",
   "metadata": {},
   "outputs": [
    {
     "name": "stdout",
     "output_type": "stream",
     "text": [
      "Five is greater than two!\n"
     ]
    }
   ],
   "source": [
    "# -solo es un ejercicio de espaiado \n",
    "if 5 > 2: \n",
    "    print (\"Five is greater than two!\")"
   ]
  },
  {
   "cell_type": "code",
   "execution_count": null,
   "id": "38d46020",
   "metadata": {},
   "outputs": [
    {
     "name": "stdout",
     "output_type": "stream",
     "text": [
      "perro\n",
      "gato\n",
      "raton\n"
     ]
    }
   ],
   "source": [
    "x, y, z = \"perro\", \"gato\", \"raton\"  #asignacion multiples variable en una sola linea \n",
    "print(x)\n",
    "print(y)    \n",
    "print(z)\n"
   ]
  },
  {
   "cell_type": "code",
   "execution_count": 6,
   "id": "fdddb714",
   "metadata": {},
   "outputs": [
    {
     "name": "stdout",
     "output_type": "stream",
     "text": [
      "manzana\n"
     ]
    }
   ],
   "source": [
    "frutas = [\"manzana\", \"banana\", \"cereza\"] #lista \n",
    "x, y, z = frutas  #asignacion multiple con listas\n",
    "print(x)"
   ]
  },
  {
   "cell_type": "code",
   "execution_count": 7,
   "id": "794ee600",
   "metadata": {},
   "outputs": [
    {
     "name": "stdout",
     "output_type": "stream",
     "text": [
      "Python es sencillo\n"
     ]
    }
   ],
   "source": [
    "x = \"Python\"\n",
    "y = \"es\"\n",
    "z = \"sencillo\"\n",
    "print(x, y, z)"
   ]
  },
  {
   "cell_type": "code",
   "execution_count": 10,
   "id": "ff237e5e",
   "metadata": {},
   "outputs": [
    {
     "name": "stdout",
     "output_type": "stream",
     "text": [
      "Pythonessencillo\n",
      "Python es sencillo\n"
     ]
    }
   ],
   "source": [
    "x = \"Python\"\n",
    "y = \"es\"\n",
    "z = \"sencillo\"\n",
    "print(x + y + z)\n",
    "\n",
    "a = \"Python \"\n",
    "b = \"es \"\n",
    "c = \"sencillo\"\n",
    "print(a + b + c)"
   ]
  },
  {
   "cell_type": "code",
   "execution_count": 11,
   "id": "89842c09",
   "metadata": {},
   "outputs": [
    {
     "name": "stdout",
     "output_type": "stream",
     "text": [
      "9\n"
     ]
    }
   ],
   "source": [
    "x = 6\n",
    "y = 3\n",
    "print(x + y)"
   ]
  },
  {
   "cell_type": "code",
   "execution_count": null,
   "id": "1a1edb5e",
   "metadata": {},
   "outputs": [
    {
     "name": "stdout",
     "output_type": "stream",
     "text": [
      "<class 'str'>\n",
      "<class 'int'>\n",
      "<class 'float'>\n",
      "<class 'bool'>\n"
     ]
    }
   ],
   "source": [
    "x = \"Gato\"\n",
    "y = 72584   \n",
    "z = 3.5\n",
    "w = True\n",
    "print(type(x))\n",
    "print(type(y))\n",
    "print(type(z))\n",
    "print(type(w))"
   ]
  },
  {
   "cell_type": "code",
   "execution_count": 13,
   "id": "4a527506",
   "metadata": {},
   "outputs": [
    {
     "name": "stdout",
     "output_type": "stream",
     "text": [
      "Gato 72584 3.5 True\n"
     ]
    }
   ],
   "source": [
    "x = \"Gato\"\n",
    "y = 72584   \n",
    "z = 3.5\n",
    "w = True\n",
    "print (x, y, z, w)"
   ]
  },
  {
   "cell_type": "code",
   "execution_count": 17,
   "id": "d7fee4fd",
   "metadata": {},
   "outputs": [
    {
     "name": "stdout",
     "output_type": "stream",
     "text": [
      "codigo funte, Numero Razo 72584\n"
     ]
    }
   ],
   "source": [
    "# funcion sencilla de python\n",
    "\n",
    "x = 72584\n",
    "def myFunction():\n",
    "  print( \"codigo funte, Numero Razo\", x)\n",
    "\n",
    "myFunction() \n"
   ]
  },
  {
   "cell_type": "code",
   "execution_count": null,
   "id": "6584dc53",
   "metadata": {},
   "outputs": [
    {
     "name": "stdout",
     "output_type": "stream",
     "text": [
      "Python is fantastic\n",
      "Python is awesome\n"
     ]
    }
   ],
   "source": [
    "X = \"awesome\"\n",
    "\n",
    "def myfunc():\n",
    "    x = \"fantastic\"\n",
    "    print(\"Python is \" + x)#local variable\n",
    "myfunc()\n",
    "\n",
    "print(\"Python is \" + X) #global variable"
   ]
  },
  {
   "cell_type": "code",
   "execution_count": 20,
   "id": "f7f40eeb",
   "metadata": {},
   "outputs": [
    {
     "name": "stdout",
     "output_type": "stream",
     "text": [
      "Python is fantastic\n"
     ]
    }
   ],
   "source": [
    "def myfunc():\n",
    "  global x\n",
    "  x = \"fantastic\"\n",
    "\n",
    "myfunc()\n",
    "\n",
    "print(\"Python is \" + x)"
   ]
  }
 ],
 "metadata": {
  "kernelspec": {
   "display_name": "Python 3",
   "language": "python",
   "name": "python3"
  },
  "language_info": {
   "codemirror_mode": {
    "name": "ipython",
    "version": 3
   },
   "file_extension": ".py",
   "mimetype": "text/x-python",
   "name": "python",
   "nbconvert_exporter": "python",
   "pygments_lexer": "ipython3",
   "version": "3.13.7"
  }
 },
 "nbformat": 4,
 "nbformat_minor": 5
}
