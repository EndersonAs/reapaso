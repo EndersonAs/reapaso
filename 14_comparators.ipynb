{
 "cells": [
  {
   "cell_type": "code",
   "execution_count": 8,
   "id": "92a647ba",
   "metadata": {},
   "outputs": [
    {
     "name": "stdout",
     "output_type": "stream",
     "text": [
      "True  - Example Mayor que\n",
      "False\n",
      "False\n",
      "True  - Example Menor que\n",
      "False\n",
      "False\n",
      "True  - Example Mayor o Igual que\n",
      "False\n",
      "True\n"
     ]
    }
   ],
   "source": [
    "# >\n",
    "print (7 > 3, \" - Example Mayor que\")\n",
    "print (3 > 7)\n",
    "print (7 > 7)\n",
    "\n",
    "print (5 < 6, \" - Example Menor que\") \n",
    "print (6 < 5)\n",
    "print (5 < 5)\n",
    "\n",
    "print (7 >= 6, \" - Example Mayor o Igual que\") \n",
    "print (2 >= 3)\n",
    "print (2 >= 2)\n"
   ]
  },
  {
   "cell_type": "code",
   "execution_count": 13,
   "id": "45ad4066",
   "metadata": {},
   "outputs": [
    {
     "name": "stdout",
     "output_type": "stream",
     "text": [
      "True\n",
      "False\n",
      "False\n",
      "True\n",
      "True  - Example doubles quotes and single quotes\n",
      "False  - Example upper and low \n"
     ]
    }
   ],
   "source": [
    "# ==\n",
    "print(6 == 6)\n",
    "print(6 == 5)\n",
    "\n",
    "# !=\n",
    "print(6 != 6)\n",
    "print(6 != 5)\n",
    "\n",
    "# == con str\n",
    "print(\"Apple\" == 'Apple', \" - Example doubles quotes and single quotes\")\n",
    "print(\"Dog\" == \"dog\", \" - Example upper and low \")"
   ]
  },
  {
   "cell_type": "code",
   "execution_count": null,
   "id": "a20c7aa5",
   "metadata": {},
   "outputs": [
    {
     "name": "stdout",
     "output_type": "stream",
     "text": [
      "-4.440892098500626e-16\n",
      "3.3\n",
      "3.3000000000000003\n",
      "False\n",
      "3.3\n",
      "<class 'str'>\n",
      "True\n",
      "--------------------\n",
      "3.3000000000000003 3.3\n",
      "True\n"
     ]
    }
   ],
   "source": [
    "#comparación de numeros tipo float\n",
    "\n",
    "x = 3.3\n",
    "y = 1.1 +2.2\n",
    "\n",
    "print(x)\n",
    "print(y)\n",
    "print(x == y)\n",
    "#solucionar  la comparacion de una forma no matematica\n",
    "y_str = format(y, \".2g\")\n",
    "print(y_str)\n",
    "print(type(y_str))\n",
    "\n",
    "print(y_str == str(x))\n",
    "\n",
    "#solucionar  la comparacion de una forma matematica\n",
    "print(\"-\" * 20)\n",
    "print(y, x)\n",
    "\n",
    "tolerance = 0.00001\n",
    "print(abs(x - y) < tolerance)\n",
    "\n",
    "\n",
    "\n",
    "\n"
   ]
  }
 ],
 "metadata": {
  "kernelspec": {
   "display_name": "Python 3",
   "language": "python",
   "name": "python3"
  },
  "language_info": {
   "codemirror_mode": {
    "name": "ipython",
    "version": 3
   },
   "file_extension": ".py",
   "mimetype": "text/x-python",
   "name": "python",
   "nbconvert_exporter": "python",
   "pygments_lexer": "ipython3",
   "version": "3.13.7"
  }
 },
 "nbformat": 4,
 "nbformat_minor": 5
}
