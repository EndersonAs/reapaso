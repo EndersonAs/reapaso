{
 "cells": [
  {
   "cell_type": "code",
   "execution_count": 13,
   "id": "df8ed29f",
   "metadata": {},
   "outputs": [
    {
     "name": "stdout",
     "output_type": "stream",
     "text": [
      "20\n",
      "5\n",
      "20\n",
      "5.0\n",
      "3.3333333333333335\n",
      "3\n",
      "1\n",
      "8\n",
      "10.0\n"
     ]
    }
   ],
   "source": [
    "print(10 + 10)\n",
    "print(10 - 5)\n",
    "print(10 * 2)\n",
    "print(10 / 2)\n",
    "print(10 / 3)\n",
    "print(10 // 3) #no tiene en cuenta los decimales solo el entero\n",
    "print(10 % 3)\n",
    "print(2**3) #Expontes \n",
    "print(2 ** 3 + 3- 7 /1 // 4) #Tiene en cuenta el orden de prioridad \n"
   ]
  },
  {
   "cell_type": "code",
   "execution_count": 7,
   "id": "9dca21cf",
   "metadata": {},
   "outputs": [
    {
     "name": "stdout",
     "output_type": "stream",
     "text": [
      "Hola mundo hola perro \n",
      "hola mundo - hola mundo - hola mundo - \n"
     ]
    }
   ],
   "source": [
    "print(\"Hola mundo\" + \" hola perro \")\n",
    "print(\"hola mundo - \" *3 )\n"
   ]
  }
 ],
 "metadata": {
  "kernelspec": {
   "display_name": "Python 3",
   "language": "python",
   "name": "python3"
  },
  "language_info": {
   "codemirror_mode": {
    "name": "ipython",
    "version": 3
   },
   "file_extension": ".py",
   "mimetype": "text/x-python",
   "name": "python",
   "nbconvert_exporter": "python",
   "pygments_lexer": "ipython3",
   "version": "3.13.7"
  }
 },
 "nbformat": 4,
 "nbformat_minor": 5
}
