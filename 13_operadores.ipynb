{
 "cells": [
  {
   "cell_type": "code",
   "execution_count": null,
   "id": "df8ed29f",
   "metadata": {},
   "outputs": [
    {
     "name": "stdout",
     "output_type": "stream",
     "text": [
      "20\n",
      "5\n",
      "20\n",
      "5.0\n",
      "3.3333333333333335\n",
      "3\n",
      "1\n",
      "8\n",
      "10.0\n"
     ]
    },
    {
     "ename": "ZeroDivisionError",
     "evalue": "division by zero",
     "output_type": "error",
     "traceback": [
      "\u001b[31m---------------------------------------------------------------------------\u001b[39m",
      "\u001b[31mZeroDivisionError\u001b[39m                         Traceback (most recent call last)",
      "\u001b[36mCell\u001b[39m\u001b[36m \u001b[39m\u001b[32mIn[12]\u001b[39m\u001b[32m, line 10\u001b[39m\n\u001b[32m      8\u001b[39m \u001b[38;5;28mprint\u001b[39m(\u001b[32m2\u001b[39m**\u001b[32m3\u001b[39m) \u001b[38;5;66;03m#Expontes \u001b[39;00m\n\u001b[32m      9\u001b[39m \u001b[38;5;28mprint\u001b[39m(\u001b[32m2\u001b[39m ** \u001b[32m3\u001b[39m + \u001b[32m3\u001b[39m- \u001b[32m7\u001b[39m /\u001b[32m1\u001b[39m // \u001b[32m4\u001b[39m) \u001b[38;5;66;03m#Tiene en cuenta el orden de prioridad \u001b[39;00m\n\u001b[32m---> \u001b[39m\u001b[32m10\u001b[39m \u001b[38;5;28mprint\u001b[39m(\u001b[32;43m10\u001b[39;49m\u001b[43m/\u001b[49m\u001b[32;43m0\u001b[39;49m)\n",
      "\u001b[31mZeroDivisionError\u001b[39m: division by zero"
     ]
    }
   ],
   "source": [
    "print(10 + 10)\n",
    "print(10 - 5)\n",
    "print(10 * 2)\n",
    "print(10 / 2)\n",
    "print(10 / 3)\n",
    "print(10 // 3) #no tiene en cuenta los decimales solo el entero\n",
    "print(10 % 3)\n",
    "print(2**3) #Expontes \n",
    "print(2 ** 3 + 3- 7 /1 // 4) #Tiene en cuenta el orden de prioridad \n",
    "\n",
    "\n"
   ]
  },
  {
   "cell_type": "code",
   "execution_count": 7,
   "id": "9dca21cf",
   "metadata": {},
   "outputs": [
    {
     "name": "stdout",
     "output_type": "stream",
     "text": [
      "Hola mundo hola perro \n",
      "hola mundo - hola mundo - hola mundo - \n"
     ]
    }
   ],
   "source": [
    "print(\"Hola mundo\" + \" hola perro \")\n",
    "print(\"hola mundo - \" *3 )\n"
   ]
  }
 ],
 "metadata": {
  "kernelspec": {
   "display_name": "Python 3",
   "language": "python",
   "name": "python3"
  },
  "language_info": {
   "codemirror_mode": {
    "name": "ipython",
    "version": 3
   },
   "file_extension": ".py",
   "mimetype": "text/x-python",
   "name": "python",
   "nbconvert_exporter": "python",
   "pygments_lexer": "ipython3",
   "version": "3.13.7"
  }
 },
 "nbformat": 4,
 "nbformat_minor": 5
}
