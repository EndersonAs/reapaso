{
 "cells": [
  {
   "cell_type": "markdown",
   "id": "57dbfd72",
   "metadata": {},
   "source": [
    "***MANIPULACIÓN DE ARCHIVOS DE EXCEL***\n",
    "<h5 id=\"inicio\">Dar click en los enlaces para ver el Ejemplo</h5>\n",
    "<ol>\n",
    "<li><a href=\"#1\">Leer archivos</a></li>\n",
    "<li><a href=\"#2\">Escribir archivos </a> </li>\n",
    "<li><a href=\"#3\">Opciones avanzadas de lectura </a></li>\n",
    "<li><a href=\"#4\">Opciones avanzadas de escritura </a></li>\n",
    "<li><a href=\"#4\">Actualizar archivos existentes  </a></li>\n",
    "</ol>"
   ]
  },
  {
   "cell_type": "markdown",
   "id": "0f9770ef",
   "metadata": {
    "vscode": {
     "languageId": "plaintext"
    }
   },
   "source": [
    "<h3 id=\"1\">1. Leer archivos </h3>\n",
    "<a href=\"#inicio\">Ir al Inicio ✔</a> "
   ]
  },
  {
   "cell_type": "code",
   "execution_count": null,
   "id": "f8ff36d7",
   "metadata": {},
   "outputs": [],
   "source": [
    "import pandas as pd   # Importar la librería pandas\n",
    "\n",
    "pd.read_excel(r\"C:\\Users\\ANDAP\\Desktop\\ventas.xlsx\") #Abajo es la sintaxis, usar la ruta correpondiente\n",
    "\n",
    "df_csv = pd.read_csv('ventas.csv')   # Leer archivo CSV \n",
    "df_excel = pd.read_excel('ventas.xlsx')   # Leer archivo Excel \n",
    "df_excel = pd.read_excel('ventas.xlsx', sheet_name='Enero')   # Leer una hoja específica \n"
   ]
  },
  {
   "cell_type": "markdown",
   "id": "fa3ca509",
   "metadata": {},
   "source": [
    "<h2 id=\"2\">2. Escribir archivos </h2>\n",
    "<a href=\"#inicio\">Ir al Inicio</a> "
   ]
  },
  {
   "cell_type": "code",
   "execution_count": null,
   "id": "2a021beb",
   "metadata": {},
   "outputs": [],
   "source": [
    "df_csv.to_csv('reporte.csv', index=False)   # Guardar DataFrame en CSV sin índice \n",
    "df_excel.to_excel('reporte.xlsx', index=False)   # Guardar DataFrame en Excel sin índice "
   ]
  },
  {
   "cell_type": "markdown",
   "id": "917c164d",
   "metadata": {},
   "source": [
    "<h2 id=\"3\">3. Opciones avanzadas de lectura</h2>\n",
    "<a href=\"#inicio\">Ir al Inicio</a> "
   ]
  },
  {
   "cell_type": "code",
   "execution_count": null,
   "id": "bbb01c99",
   "metadata": {},
   "outputs": [],
   "source": [
    "df= pd.read_csv('ventas.csv', delimiter=';')   # Leer CSV con delimitador diferente (;) \n",
    "df = pd.read_csv('ventas.csv', usecols=['Producto','Cantidad'])   # Leer solo columnas específicas \n",
    "df = pd.read_csv('ventas.csv', nrows=10)   # Leer solo las primeras 10 filas \n",
    "df = pd.read_excel('ventas.xlsx', index_col='ID')   # Leer Excel usando una columna como índice "
   ]
  },
  {
   "cell_type": "markdown",
   "id": "7f7cfade",
   "metadata": {},
   "source": [
    "<h2 id=\"4\">4. Opciones avanzadas de escritura </h2>\n",
    "<a href=\"#inicio\">Ir al Inicio</a> "
   ]
  },
  {
   "cell_type": "code",
   "execution_count": null,
   "id": "5774e88c",
   "metadata": {},
   "outputs": [],
   "source": [
    "df_csv.to_csv('ventas.csv', index=False, encoding='utf-8')   # Guardar CSV con codificación UTF-8 \n",
    "df_csv.to_csv('ventas.csv', index=False, float_format='%.2f')   # Guardar CSV con 2 decimales \n",
    "\n",
    "df1 =pd.DataFrame()\n",
    "df2 =pd.DataFrame()\n",
    "with pd.ExcelWriter('ventas_multi.xlsx') as writer:   # Guardar Excel con varias hojas \n",
    "    df1.to_excel(writer, sheet_name='Clientes', index=False)   # Guardar df1 en hoja 'Clientes' \n",
    "    df2.to_excel(writer, sheet_name='Ventas', index=False)   # Guardar df2 en hoja 'Ventas' \n"
   ]
  },
  {
   "cell_type": "markdown",
   "id": "84d53ed9",
   "metadata": {},
   "source": [
    "<h2 id=\"4\">5. Actualizar archivos existentes</h2>\n",
    "<a href=\"#inicio\">Ir al Inicio</a> "
   ]
  },
  {
   "cell_type": "code",
   "execution_count": null,
   "id": "b4777d1b",
   "metadata": {},
   "outputs": [],
   "source": [
    "from openpyxl import load_workbook   # Librería para trabajar con Excel \n",
    " \n",
    "with pd.ExcelWriter('ventas.xlsx', mode='a', engine='openpyxl') as writer:   # Agregar nueva hoja a un Excel existente \n",
    "    df.to_excel(writer, sheet_name='NuevaHoja', index=False)   # Guardar df en nueva hoja "
   ]
  }
 ],
 "metadata": {
  "kernelspec": {
   "display_name": "Python 3",
   "language": "python",
   "name": "python3"
  },
  "language_info": {
   "codemirror_mode": {
    "name": "ipython",
    "version": 3
   },
   "file_extension": ".py",
   "mimetype": "text/x-python",
   "name": "python",
   "nbconvert_exporter": "python",
   "pygments_lexer": "ipython3",
   "version": "3.13.7"
  }
 },
 "nbformat": 4,
 "nbformat_minor": 5
}
